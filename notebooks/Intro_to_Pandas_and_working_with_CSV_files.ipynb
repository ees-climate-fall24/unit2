{
 "cells": [
  {
   "cell_type": "markdown",
   "id": "b36bbfdc-cb9f-407f-8aec-35ba3e102ab6",
   "metadata": {},
   "source": [
    "### This notebook goes over fundamentals of using Python's Pandas package to work with 1 dimensional (1D) datasets. For your first mini-project you will need to be able to load in 1D climate datasets and create effective visualizations of them. Use this lesson as a resource to look back on when you are working on your mini-project.\n",
    "### These datasets may come in the form of ...\n",
    " * #### Comma Seperated Values(CSV) files.\n",
    " * #### Data stored in Excel spreadsheets (.xlxs, or .xls prior to Excel 2007)\n",
    " * #### Data stored in JavaScript Object Notation (JSON) files\n",
    " * #### Text (.txt) files \n",
    " \n",
    " \n",
    " #### Portions of this notebook are inspired from the [__10 minutes to pandas__ tutorial ](https://pandas.pydata.org/docs/user_guide/10min.html)from pandas.pydata.org:\n",
    " __Author__: Dr. Beadling. For any questions regarding the contents of this notebook please contact rebecca.beadling@temple.edu."
   ]
  },
  {
   "cell_type": "markdown",
   "id": "cd78e55e-28ce-4f3f-be89-d6ca1d9bc250",
   "metadata": {},
   "source": [
    "### You should be __entering__ this lesson with ...\n",
    "* Having completely worked through `hello_world.ipynb`, `Fundamentals_ControlFlow_Funtions.ipynb`, and `Intro_to_arrays.ipynb`\n",
    "* Knowledge of Python fundamentals covered in all of the above notebooks. \n",
    "* Knowledge of how to use git status, git commit, git push.\n",
    "\n",
    "### You should be __leaving__ this lesson with ...\n",
    "* An understanding of what a Pandas series & DataFrame are.\n",
    "* An understanding of how to load in specific file types as Pandas DataFrames.\n",
    "* How to carry out basic calculations across a DataFrame.\n",
    "* How to produce a __very basic__ plot from your data (plot customization via Matplotlib is the topic of the next lesson)"
   ]
  },
  {
   "cell_type": "code",
   "execution_count": 95,
   "id": "a463a355-7b8f-4f17-bf5a-f8d15a56acab",
   "metadata": {
    "tags": []
   },
   "outputs": [],
   "source": [
    "import pandas as pd                          \n",
    "import matplotlib.pyplot as plt \n",
    "import numpy as np"
   ]
  },
  {
   "cell_type": "code",
   "execution_count": 96,
   "id": "951539d0-7542-45ca-93d5-8f22560644f7",
   "metadata": {
    "tags": []
   },
   "outputs": [],
   "source": [
    "%matplotlib inline                           \n",
    "%config InlineBackend.figure_format='retina' \n",
    "plt.rcParams['figure.figsize'] = 12,6  "
   ]
  },
  {
   "cell_type": "markdown",
   "id": "ff87d5dd-21c5-4acc-bdcb-7435c505d2c3",
   "metadata": {
    "tags": []
   },
   "source": [
    "### Pandas has two types of data structures:\n",
    "* #### __Series__: 1D labeled array holding data of any type.\n",
    "* #### __DataFrame__: 2D data structure that holds data like a Table with rows or columns (think of an Excel spreadsheet).\n",
    "\n",
    "### For the purpose of this course, you just need to understand how to use Pandas to load in and manipulate Series & DataFrames that contain information regarding climate."
   ]
  },
  {
   "cell_type": "markdown",
   "id": "51bf742e-6dda-4982-8ced-6c95f9b66010",
   "metadata": {},
   "source": [
    "### Load a CSV files that contain measurements of atmospheric CO2 concentrations as Pandas DataFrames:\n",
    "* Monthly atmospheric CO2 concentrations as measured from the Mauna Loa Observatory, Hawaii from 1958 to 2023 (https://keelingcurve.ucsd.edu/)\n",
    "* Monthly atmospheric CO2 concentrations from a global network of CO2 measurements (NOAA's Global Monitoring Laboratory) from 1979 to 2023 (https://gml.noaa.gov/ccgg/trends/global.html?doi=10.15138/9n0h-zh07)\n",
    "* Monthly atmospheric CO2 concentrations from the World Data Centre for Greenhouse Gases (WDCGG) operated by the Japan Meteorological Agency (https://gaw.kishou.go.jp/)"
   ]
  },
  {
   "cell_type": "code",
   "execution_count": 97,
   "id": "51b4b267-3617-4296-a88a-26ac0c16b9e0",
   "metadata": {},
   "outputs": [],
   "source": [
    "CO2_MaunaLoa = pd.read_csv('./data/greenhouse_gases/CO2_MaunaLoa_TimeSeries.csv',parse_dates=['Date'])\n",
    "CO2_NOAA = pd.read_csv('./data/greenhouse_gases/CO2_NOAA_TimeSeries.csv',parse_dates=['Date'])\n",
    "CO2_WDCGG = pd.read_csv('./data/greenhouse_gases/CO2_WDCGG_TimeSeries.csv',parse_dates=['Date'])"
   ]
  },
  {
   "cell_type": "code",
   "execution_count": 98,
   "id": "4ff9001a-248c-4cb0-98d5-ea4e766f6acf",
   "metadata": {
    "tags": []
   },
   "outputs": [
    {
     "data": {
      "text/html": [
       "<div>\n",
       "<style scoped>\n",
       "    .dataframe tbody tr th:only-of-type {\n",
       "        vertical-align: middle;\n",
       "    }\n",
       "\n",
       "    .dataframe tbody tr th {\n",
       "        vertical-align: top;\n",
       "    }\n",
       "\n",
       "    .dataframe thead th {\n",
       "        text-align: right;\n",
       "    }\n",
       "</style>\n",
       "<table border=\"1\" class=\"dataframe\">\n",
       "  <thead>\n",
       "    <tr style=\"text-align: right;\">\n",
       "      <th></th>\n",
       "      <th>Date</th>\n",
       "      <th>Mauna Loa CO2 (ppm)</th>\n",
       "      <th>Mauna Loa CO2 uncertainty</th>\n",
       "    </tr>\n",
       "  </thead>\n",
       "  <tbody>\n",
       "    <tr>\n",
       "      <th>0</th>\n",
       "      <td>1958-03-01</td>\n",
       "      <td>315.70</td>\n",
       "      <td>NaN</td>\n",
       "    </tr>\n",
       "    <tr>\n",
       "      <th>1</th>\n",
       "      <td>1958-04-01</td>\n",
       "      <td>317.45</td>\n",
       "      <td>NaN</td>\n",
       "    </tr>\n",
       "    <tr>\n",
       "      <th>2</th>\n",
       "      <td>1958-05-01</td>\n",
       "      <td>317.51</td>\n",
       "      <td>NaN</td>\n",
       "    </tr>\n",
       "    <tr>\n",
       "      <th>3</th>\n",
       "      <td>1958-06-01</td>\n",
       "      <td>317.24</td>\n",
       "      <td>NaN</td>\n",
       "    </tr>\n",
       "    <tr>\n",
       "      <th>4</th>\n",
       "      <td>1958-07-01</td>\n",
       "      <td>315.86</td>\n",
       "      <td>NaN</td>\n",
       "    </tr>\n",
       "    <tr>\n",
       "      <th>...</th>\n",
       "      <td>...</td>\n",
       "      <td>...</td>\n",
       "      <td>...</td>\n",
       "    </tr>\n",
       "    <tr>\n",
       "      <th>776</th>\n",
       "      <td>2022-11-01</td>\n",
       "      <td>417.51</td>\n",
       "      <td>NaN</td>\n",
       "    </tr>\n",
       "    <tr>\n",
       "      <th>777</th>\n",
       "      <td>2022-12-01</td>\n",
       "      <td>418.95</td>\n",
       "      <td>NaN</td>\n",
       "    </tr>\n",
       "    <tr>\n",
       "      <th>778</th>\n",
       "      <td>2023-01-01</td>\n",
       "      <td>419.47</td>\n",
       "      <td>NaN</td>\n",
       "    </tr>\n",
       "    <tr>\n",
       "      <th>779</th>\n",
       "      <td>2023-02-01</td>\n",
       "      <td>420.41</td>\n",
       "      <td>NaN</td>\n",
       "    </tr>\n",
       "    <tr>\n",
       "      <th>780</th>\n",
       "      <td>2023-03-01</td>\n",
       "      <td>421.00</td>\n",
       "      <td>NaN</td>\n",
       "    </tr>\n",
       "  </tbody>\n",
       "</table>\n",
       "<p>781 rows × 3 columns</p>\n",
       "</div>"
      ],
      "text/plain": [
       "          Date  Mauna Loa CO2 (ppm)  Mauna Loa CO2 uncertainty\n",
       "0   1958-03-01               315.70                        NaN\n",
       "1   1958-04-01               317.45                        NaN\n",
       "2   1958-05-01               317.51                        NaN\n",
       "3   1958-06-01               317.24                        NaN\n",
       "4   1958-07-01               315.86                        NaN\n",
       "..         ...                  ...                        ...\n",
       "776 2022-11-01               417.51                        NaN\n",
       "777 2022-12-01               418.95                        NaN\n",
       "778 2023-01-01               419.47                        NaN\n",
       "779 2023-02-01               420.41                        NaN\n",
       "780 2023-03-01               421.00                        NaN\n",
       "\n",
       "[781 rows x 3 columns]"
      ]
     },
     "execution_count": 98,
     "metadata": {},
     "output_type": "execute_result"
    }
   ],
   "source": [
    "CO2_MaunaLoa"
   ]
  },
  {
   "cell_type": "markdown",
   "id": "ab2cc457-3fcd-4982-bae4-a7a317e00cb9",
   "metadata": {
    "tags": []
   },
   "source": [
    "### For the purpose of learning, we will just work with one of these datasets to start. Writing the name of the DataFrame and executing the cell below reveals the structure of the DataFrame:\n",
    "* #### We see that the CO2_MaunaLoa DataFram was 781 rows and 3 columns.\n",
    "* #### We see that the labels of the columns of the DataFrame has the values:\n",
    "    __`Date`__, __`Mauna Loa CO2 (ppm)`__, and __`Mauna Loa CO2 uncertainty`__.\n",
    "* #### We also see that executing the cell with just the DataFrames name by default returns the first 5 rows and the last 5 rows.\n",
    "* #### You can also see that the values within each column are indexed such that the first value is value 0 [left hand column]"
   ]
  },
  {
   "cell_type": "code",
   "execution_count": 99,
   "id": "be8e9352-19af-465d-b6b5-ddb6a34d1e74",
   "metadata": {
    "tags": []
   },
   "outputs": [
    {
     "data": {
      "text/html": [
       "<div>\n",
       "<style scoped>\n",
       "    .dataframe tbody tr th:only-of-type {\n",
       "        vertical-align: middle;\n",
       "    }\n",
       "\n",
       "    .dataframe tbody tr th {\n",
       "        vertical-align: top;\n",
       "    }\n",
       "\n",
       "    .dataframe thead th {\n",
       "        text-align: right;\n",
       "    }\n",
       "</style>\n",
       "<table border=\"1\" class=\"dataframe\">\n",
       "  <thead>\n",
       "    <tr style=\"text-align: right;\">\n",
       "      <th></th>\n",
       "      <th>Date</th>\n",
       "      <th>Mauna Loa CO2 (ppm)</th>\n",
       "      <th>Mauna Loa CO2 uncertainty</th>\n",
       "    </tr>\n",
       "  </thead>\n",
       "  <tbody>\n",
       "    <tr>\n",
       "      <th>0</th>\n",
       "      <td>1958-03-01</td>\n",
       "      <td>315.70</td>\n",
       "      <td>NaN</td>\n",
       "    </tr>\n",
       "    <tr>\n",
       "      <th>1</th>\n",
       "      <td>1958-04-01</td>\n",
       "      <td>317.45</td>\n",
       "      <td>NaN</td>\n",
       "    </tr>\n",
       "    <tr>\n",
       "      <th>2</th>\n",
       "      <td>1958-05-01</td>\n",
       "      <td>317.51</td>\n",
       "      <td>NaN</td>\n",
       "    </tr>\n",
       "    <tr>\n",
       "      <th>3</th>\n",
       "      <td>1958-06-01</td>\n",
       "      <td>317.24</td>\n",
       "      <td>NaN</td>\n",
       "    </tr>\n",
       "    <tr>\n",
       "      <th>4</th>\n",
       "      <td>1958-07-01</td>\n",
       "      <td>315.86</td>\n",
       "      <td>NaN</td>\n",
       "    </tr>\n",
       "    <tr>\n",
       "      <th>...</th>\n",
       "      <td>...</td>\n",
       "      <td>...</td>\n",
       "      <td>...</td>\n",
       "    </tr>\n",
       "    <tr>\n",
       "      <th>776</th>\n",
       "      <td>2022-11-01</td>\n",
       "      <td>417.51</td>\n",
       "      <td>NaN</td>\n",
       "    </tr>\n",
       "    <tr>\n",
       "      <th>777</th>\n",
       "      <td>2022-12-01</td>\n",
       "      <td>418.95</td>\n",
       "      <td>NaN</td>\n",
       "    </tr>\n",
       "    <tr>\n",
       "      <th>778</th>\n",
       "      <td>2023-01-01</td>\n",
       "      <td>419.47</td>\n",
       "      <td>NaN</td>\n",
       "    </tr>\n",
       "    <tr>\n",
       "      <th>779</th>\n",
       "      <td>2023-02-01</td>\n",
       "      <td>420.41</td>\n",
       "      <td>NaN</td>\n",
       "    </tr>\n",
       "    <tr>\n",
       "      <th>780</th>\n",
       "      <td>2023-03-01</td>\n",
       "      <td>421.00</td>\n",
       "      <td>NaN</td>\n",
       "    </tr>\n",
       "  </tbody>\n",
       "</table>\n",
       "<p>781 rows × 3 columns</p>\n",
       "</div>"
      ],
      "text/plain": [
       "          Date  Mauna Loa CO2 (ppm)  Mauna Loa CO2 uncertainty\n",
       "0   1958-03-01               315.70                        NaN\n",
       "1   1958-04-01               317.45                        NaN\n",
       "2   1958-05-01               317.51                        NaN\n",
       "3   1958-06-01               317.24                        NaN\n",
       "4   1958-07-01               315.86                        NaN\n",
       "..         ...                  ...                        ...\n",
       "776 2022-11-01               417.51                        NaN\n",
       "777 2022-12-01               418.95                        NaN\n",
       "778 2023-01-01               419.47                        NaN\n",
       "779 2023-02-01               420.41                        NaN\n",
       "780 2023-03-01               421.00                        NaN\n",
       "\n",
       "[781 rows x 3 columns]"
      ]
     },
     "execution_count": 99,
     "metadata": {},
     "output_type": "execute_result"
    }
   ],
   "source": [
    "CO2_MaunaLoa"
   ]
  },
  {
   "cell_type": "markdown",
   "id": "34b32f46-e6b1-464a-9ce8-aef0d9d0bb3e",
   "metadata": {},
   "source": [
    "### The first few columns of the DataFrame are referred to as the __head__ and the last few rows are referred to as the __tail__. If we want, we can specify that we want to see a certain number of rows using the `.head()` and `.tail()` methods:"
   ]
  },
  {
   "cell_type": "code",
   "execution_count": 100,
   "id": "eeea9814-752e-4150-8fdc-6ca09f6f8513",
   "metadata": {
    "tags": []
   },
   "outputs": [
    {
     "data": {
      "text/html": [
       "<div>\n",
       "<style scoped>\n",
       "    .dataframe tbody tr th:only-of-type {\n",
       "        vertical-align: middle;\n",
       "    }\n",
       "\n",
       "    .dataframe tbody tr th {\n",
       "        vertical-align: top;\n",
       "    }\n",
       "\n",
       "    .dataframe thead th {\n",
       "        text-align: right;\n",
       "    }\n",
       "</style>\n",
       "<table border=\"1\" class=\"dataframe\">\n",
       "  <thead>\n",
       "    <tr style=\"text-align: right;\">\n",
       "      <th></th>\n",
       "      <th>Date</th>\n",
       "      <th>Mauna Loa CO2 (ppm)</th>\n",
       "      <th>Mauna Loa CO2 uncertainty</th>\n",
       "    </tr>\n",
       "  </thead>\n",
       "  <tbody>\n",
       "  </tbody>\n",
       "</table>\n",
       "</div>"
      ],
      "text/plain": [
       "Empty DataFrame\n",
       "Columns: [Date, Mauna Loa CO2 (ppm), Mauna Loa CO2 uncertainty]\n",
       "Index: []"
      ]
     },
     "execution_count": 100,
     "metadata": {},
     "output_type": "execute_result"
    }
   ],
   "source": [
    "CO2_MaunaLoa.head(0) "
   ]
  },
  {
   "cell_type": "code",
   "execution_count": 101,
   "id": "1798ccf4-39c2-476e-8527-e967a7da0d27",
   "metadata": {
    "tags": []
   },
   "outputs": [
    {
     "data": {
      "text/html": [
       "<div>\n",
       "<style scoped>\n",
       "    .dataframe tbody tr th:only-of-type {\n",
       "        vertical-align: middle;\n",
       "    }\n",
       "\n",
       "    .dataframe tbody tr th {\n",
       "        vertical-align: top;\n",
       "    }\n",
       "\n",
       "    .dataframe thead th {\n",
       "        text-align: right;\n",
       "    }\n",
       "</style>\n",
       "<table border=\"1\" class=\"dataframe\">\n",
       "  <thead>\n",
       "    <tr style=\"text-align: right;\">\n",
       "      <th></th>\n",
       "      <th>Date</th>\n",
       "      <th>Mauna Loa CO2 (ppm)</th>\n",
       "      <th>Mauna Loa CO2 uncertainty</th>\n",
       "    </tr>\n",
       "  </thead>\n",
       "  <tbody>\n",
       "    <tr>\n",
       "      <th>0</th>\n",
       "      <td>1958-03-01</td>\n",
       "      <td>315.70</td>\n",
       "      <td>NaN</td>\n",
       "    </tr>\n",
       "    <tr>\n",
       "      <th>1</th>\n",
       "      <td>1958-04-01</td>\n",
       "      <td>317.45</td>\n",
       "      <td>NaN</td>\n",
       "    </tr>\n",
       "    <tr>\n",
       "      <th>2</th>\n",
       "      <td>1958-05-01</td>\n",
       "      <td>317.51</td>\n",
       "      <td>NaN</td>\n",
       "    </tr>\n",
       "    <tr>\n",
       "      <th>3</th>\n",
       "      <td>1958-06-01</td>\n",
       "      <td>317.24</td>\n",
       "      <td>NaN</td>\n",
       "    </tr>\n",
       "    <tr>\n",
       "      <th>4</th>\n",
       "      <td>1958-07-01</td>\n",
       "      <td>315.86</td>\n",
       "      <td>NaN</td>\n",
       "    </tr>\n",
       "    <tr>\n",
       "      <th>5</th>\n",
       "      <td>1958-08-01</td>\n",
       "      <td>314.93</td>\n",
       "      <td>NaN</td>\n",
       "    </tr>\n",
       "    <tr>\n",
       "      <th>6</th>\n",
       "      <td>1958-09-01</td>\n",
       "      <td>313.20</td>\n",
       "      <td>NaN</td>\n",
       "    </tr>\n",
       "    <tr>\n",
       "      <th>7</th>\n",
       "      <td>1958-10-01</td>\n",
       "      <td>312.43</td>\n",
       "      <td>NaN</td>\n",
       "    </tr>\n",
       "    <tr>\n",
       "      <th>8</th>\n",
       "      <td>1958-11-01</td>\n",
       "      <td>313.33</td>\n",
       "      <td>NaN</td>\n",
       "    </tr>\n",
       "    <tr>\n",
       "      <th>9</th>\n",
       "      <td>1958-12-01</td>\n",
       "      <td>314.67</td>\n",
       "      <td>NaN</td>\n",
       "    </tr>\n",
       "  </tbody>\n",
       "</table>\n",
       "</div>"
      ],
      "text/plain": [
       "        Date  Mauna Loa CO2 (ppm)  Mauna Loa CO2 uncertainty\n",
       "0 1958-03-01               315.70                        NaN\n",
       "1 1958-04-01               317.45                        NaN\n",
       "2 1958-05-01               317.51                        NaN\n",
       "3 1958-06-01               317.24                        NaN\n",
       "4 1958-07-01               315.86                        NaN\n",
       "5 1958-08-01               314.93                        NaN\n",
       "6 1958-09-01               313.20                        NaN\n",
       "7 1958-10-01               312.43                        NaN\n",
       "8 1958-11-01               313.33                        NaN\n",
       "9 1958-12-01               314.67                        NaN"
      ]
     },
     "execution_count": 101,
     "metadata": {},
     "output_type": "execute_result"
    }
   ],
   "source": [
    "CO2_MaunaLoa.head(10)"
   ]
  },
  {
   "cell_type": "markdown",
   "id": "94d13cbb-d96e-4cd0-85f5-94dd01a7f793",
   "metadata": {},
   "source": [
    "### <span style=\"color:red\">  In the cell below, write code that displays the last row and the last 5 rows using the .tail() method:"
   ]
  },
  {
   "cell_type": "code",
   "execution_count": null,
   "id": "292a0a55-7f9b-4f2d-9aa8-14e947671d0b",
   "metadata": {},
   "outputs": [],
   "source": []
  },
  {
   "cell_type": "code",
   "execution_count": null,
   "id": "585f8cb4-922f-474e-9f87-927b9fc9d0fe",
   "metadata": {
    "tags": []
   },
   "outputs": [],
   "source": []
  },
  {
   "cell_type": "markdown",
   "id": "98e54636-179a-4696-b431-033d0057e2e9",
   "metadata": {},
   "source": [
    "### The DataFrames object has a method called info(), that gives you more information about the data set. Here we can see that this DataFrame is composed of 3 distinct columns named 'Date', 'Mauna Loa CO2', and 'Mauna Loa CO2 uncertainty', with Data Types of datetime64, float64, float64. There  RangeIndex tells us there are 781 rows from 0 to 780 spanning 3 columns. \n",
    "\n",
    "### The Non-Null Count tells us that the column named 'Mauna Loa CO2 uncertainty' has 781 values that are NaN values. We can ignore this for now as we won't be using this data. However there may be situatons where you want to \"clean\" your datasets and remove NaN values. If you find yourself in this situation .... follow this tutorial: https://www.w3schools.com/python/pandas/pandas_cleaning.asp."
   ]
  },
  {
   "cell_type": "code",
   "execution_count": 102,
   "id": "896b8f06-a59b-462f-bfe0-e440edcb7d94",
   "metadata": {
    "tags": []
   },
   "outputs": [
    {
     "name": "stdout",
     "output_type": "stream",
     "text": [
      "<class 'pandas.core.frame.DataFrame'>\n",
      "RangeIndex: 781 entries, 0 to 780\n",
      "Data columns (total 3 columns):\n",
      " #   Column                     Non-Null Count  Dtype         \n",
      "---  ------                     --------------  -----         \n",
      " 0   Date                       781 non-null    datetime64[ns]\n",
      " 1   Mauna Loa CO2 (ppm)        781 non-null    float64       \n",
      " 2   Mauna Loa CO2 uncertainty  0 non-null      float64       \n",
      "dtypes: datetime64[ns](1), float64(2)\n",
      "memory usage: 18.4 KB\n"
     ]
    }
   ],
   "source": [
    "CO2_MaunaLoa.info()"
   ]
  },
  {
   "cell_type": "markdown",
   "id": "22215ad6-7fd0-4eda-b677-b945092d6247",
   "metadata": {},
   "source": [
    "### Let's look at the structure of our array again and use our knowledge of indexing to figure out how we could extract specfic values / rows / columns. If you have a really large dataset / spreadsheet, you may have __lots__ of columns ..... but you likely only want to plot or analyze a few:\n",
    "\n",
    "### The column on the far left of our DataFrame shows the index label associated with each row. In Pandas, we can access data using the `.loc ` method and specify an __index label__. <span style=\"color:red\"> How would we return the values for March 1958 ?"
   ]
  },
  {
   "cell_type": "code",
   "execution_count": 103,
   "id": "be179ab7-c71b-47c6-af32-142ff6d932d6",
   "metadata": {
    "tags": []
   },
   "outputs": [
    {
     "data": {
      "text/html": [
       "<div>\n",
       "<style scoped>\n",
       "    .dataframe tbody tr th:only-of-type {\n",
       "        vertical-align: middle;\n",
       "    }\n",
       "\n",
       "    .dataframe tbody tr th {\n",
       "        vertical-align: top;\n",
       "    }\n",
       "\n",
       "    .dataframe thead th {\n",
       "        text-align: right;\n",
       "    }\n",
       "</style>\n",
       "<table border=\"1\" class=\"dataframe\">\n",
       "  <thead>\n",
       "    <tr style=\"text-align: right;\">\n",
       "      <th></th>\n",
       "      <th>Date</th>\n",
       "      <th>Mauna Loa CO2 (ppm)</th>\n",
       "      <th>Mauna Loa CO2 uncertainty</th>\n",
       "    </tr>\n",
       "  </thead>\n",
       "  <tbody>\n",
       "    <tr>\n",
       "      <th>0</th>\n",
       "      <td>1958-03-01</td>\n",
       "      <td>315.70</td>\n",
       "      <td>NaN</td>\n",
       "    </tr>\n",
       "    <tr>\n",
       "      <th>1</th>\n",
       "      <td>1958-04-01</td>\n",
       "      <td>317.45</td>\n",
       "      <td>NaN</td>\n",
       "    </tr>\n",
       "    <tr>\n",
       "      <th>2</th>\n",
       "      <td>1958-05-01</td>\n",
       "      <td>317.51</td>\n",
       "      <td>NaN</td>\n",
       "    </tr>\n",
       "    <tr>\n",
       "      <th>3</th>\n",
       "      <td>1958-06-01</td>\n",
       "      <td>317.24</td>\n",
       "      <td>NaN</td>\n",
       "    </tr>\n",
       "    <tr>\n",
       "      <th>4</th>\n",
       "      <td>1958-07-01</td>\n",
       "      <td>315.86</td>\n",
       "      <td>NaN</td>\n",
       "    </tr>\n",
       "    <tr>\n",
       "      <th>5</th>\n",
       "      <td>1958-08-01</td>\n",
       "      <td>314.93</td>\n",
       "      <td>NaN</td>\n",
       "    </tr>\n",
       "    <tr>\n",
       "      <th>6</th>\n",
       "      <td>1958-09-01</td>\n",
       "      <td>313.20</td>\n",
       "      <td>NaN</td>\n",
       "    </tr>\n",
       "    <tr>\n",
       "      <th>7</th>\n",
       "      <td>1958-10-01</td>\n",
       "      <td>312.43</td>\n",
       "      <td>NaN</td>\n",
       "    </tr>\n",
       "    <tr>\n",
       "      <th>8</th>\n",
       "      <td>1958-11-01</td>\n",
       "      <td>313.33</td>\n",
       "      <td>NaN</td>\n",
       "    </tr>\n",
       "    <tr>\n",
       "      <th>9</th>\n",
       "      <td>1958-12-01</td>\n",
       "      <td>314.67</td>\n",
       "      <td>NaN</td>\n",
       "    </tr>\n",
       "  </tbody>\n",
       "</table>\n",
       "</div>"
      ],
      "text/plain": [
       "        Date  Mauna Loa CO2 (ppm)  Mauna Loa CO2 uncertainty\n",
       "0 1958-03-01               315.70                        NaN\n",
       "1 1958-04-01               317.45                        NaN\n",
       "2 1958-05-01               317.51                        NaN\n",
       "3 1958-06-01               317.24                        NaN\n",
       "4 1958-07-01               315.86                        NaN\n",
       "5 1958-08-01               314.93                        NaN\n",
       "6 1958-09-01               313.20                        NaN\n",
       "7 1958-10-01               312.43                        NaN\n",
       "8 1958-11-01               313.33                        NaN\n",
       "9 1958-12-01               314.67                        NaN"
      ]
     },
     "execution_count": 103,
     "metadata": {},
     "output_type": "execute_result"
    }
   ],
   "source": [
    "CO2_MaunaLoa.head(10)"
   ]
  },
  {
   "cell_type": "markdown",
   "id": "592499f9-9315-40e3-9fd0-3fff772da1ab",
   "metadata": {},
   "source": [
    "### Executing the cell below shows us the values for first row of our DataFrame, which contains the CO2 concentration in ppm for March 1958:"
   ]
  },
  {
   "cell_type": "code",
   "execution_count": 104,
   "id": "0140d5bc-4237-4c7e-9cdc-4f74a53f26a5",
   "metadata": {
    "tags": []
   },
   "outputs": [
    {
     "data": {
      "text/plain": [
       "Date                         1958-03-01 00:00:00\n",
       "Mauna Loa CO2 (ppm)                        315.7\n",
       "Mauna Loa CO2 uncertainty                    NaN\n",
       "Name: 0, dtype: object"
      ]
     },
     "execution_count": 104,
     "metadata": {},
     "output_type": "execute_result"
    }
   ],
   "source": [
    "CO2_MaunaLoa.loc[0]"
   ]
  },
  {
   "cell_type": "markdown",
   "id": "6e949dcb-5138-4b27-a576-d813ee485d03",
   "metadata": {
    "tags": []
   },
   "source": [
    "### <span style=\"color:red\"> How would we return the last value, for March 2023 ?"
   ]
  },
  {
   "cell_type": "code",
   "execution_count": null,
   "id": "27ac0890-aa8f-4f1a-864d-076eb921aa36",
   "metadata": {
    "tags": []
   },
   "outputs": [],
   "source": []
  },
  {
   "cell_type": "code",
   "execution_count": null,
   "id": "0639171c-1d98-41f9-832f-520c729e27e6",
   "metadata": {},
   "outputs": [],
   "source": []
  },
  {
   "cell_type": "markdown",
   "id": "808ca750-405a-4ebf-a7e5-f679dac55bd7",
   "metadata": {},
   "source": [
    "### We can specify a list of index labels to return using `.loc`. The code below will return the values of the first two rows of the DataFrame:"
   ]
  },
  {
   "cell_type": "code",
   "execution_count": 105,
   "id": "78cdd5f8-158a-45fc-8a2c-37ddb8fc9377",
   "metadata": {
    "tags": []
   },
   "outputs": [
    {
     "data": {
      "text/html": [
       "<div>\n",
       "<style scoped>\n",
       "    .dataframe tbody tr th:only-of-type {\n",
       "        vertical-align: middle;\n",
       "    }\n",
       "\n",
       "    .dataframe tbody tr th {\n",
       "        vertical-align: top;\n",
       "    }\n",
       "\n",
       "    .dataframe thead th {\n",
       "        text-align: right;\n",
       "    }\n",
       "</style>\n",
       "<table border=\"1\" class=\"dataframe\">\n",
       "  <thead>\n",
       "    <tr style=\"text-align: right;\">\n",
       "      <th></th>\n",
       "      <th>Date</th>\n",
       "      <th>Mauna Loa CO2 (ppm)</th>\n",
       "      <th>Mauna Loa CO2 uncertainty</th>\n",
       "    </tr>\n",
       "  </thead>\n",
       "  <tbody>\n",
       "    <tr>\n",
       "      <th>1</th>\n",
       "      <td>1958-04-01</td>\n",
       "      <td>317.45</td>\n",
       "      <td>NaN</td>\n",
       "    </tr>\n",
       "    <tr>\n",
       "      <th>2</th>\n",
       "      <td>1958-05-01</td>\n",
       "      <td>317.51</td>\n",
       "      <td>NaN</td>\n",
       "    </tr>\n",
       "  </tbody>\n",
       "</table>\n",
       "</div>"
      ],
      "text/plain": [
       "        Date  Mauna Loa CO2 (ppm)  Mauna Loa CO2 uncertainty\n",
       "1 1958-04-01               317.45                        NaN\n",
       "2 1958-05-01               317.51                        NaN"
      ]
     },
     "execution_count": 105,
     "metadata": {},
     "output_type": "execute_result"
    }
   ],
   "source": [
    "CO2_MaunaLoa.loc[[1,2]]"
   ]
  },
  {
   "cell_type": "markdown",
   "id": "d08f8c57-8431-4886-af8d-d4cb419c6952",
   "metadata": {},
   "source": [
    "### The `.loc` method is locating based off of index label, so we could give it any list of lables to return. The code below returns row 7, 8, 100, and 700:"
   ]
  },
  {
   "cell_type": "code",
   "execution_count": 106,
   "id": "f9a76cf1-664a-4bd6-84cf-88815a1455fa",
   "metadata": {
    "tags": []
   },
   "outputs": [
    {
     "data": {
      "text/html": [
       "<div>\n",
       "<style scoped>\n",
       "    .dataframe tbody tr th:only-of-type {\n",
       "        vertical-align: middle;\n",
       "    }\n",
       "\n",
       "    .dataframe tbody tr th {\n",
       "        vertical-align: top;\n",
       "    }\n",
       "\n",
       "    .dataframe thead th {\n",
       "        text-align: right;\n",
       "    }\n",
       "</style>\n",
       "<table border=\"1\" class=\"dataframe\">\n",
       "  <thead>\n",
       "    <tr style=\"text-align: right;\">\n",
       "      <th></th>\n",
       "      <th>Date</th>\n",
       "      <th>Mauna Loa CO2 (ppm)</th>\n",
       "      <th>Mauna Loa CO2 uncertainty</th>\n",
       "    </tr>\n",
       "  </thead>\n",
       "  <tbody>\n",
       "    <tr>\n",
       "      <th>7</th>\n",
       "      <td>1958-10-01</td>\n",
       "      <td>312.43</td>\n",
       "      <td>NaN</td>\n",
       "    </tr>\n",
       "    <tr>\n",
       "      <th>8</th>\n",
       "      <td>1958-11-01</td>\n",
       "      <td>313.33</td>\n",
       "      <td>NaN</td>\n",
       "    </tr>\n",
       "    <tr>\n",
       "      <th>100</th>\n",
       "      <td>1966-07-01</td>\n",
       "      <td>322.38</td>\n",
       "      <td>NaN</td>\n",
       "    </tr>\n",
       "    <tr>\n",
       "      <th>700</th>\n",
       "      <td>2016-07-01</td>\n",
       "      <td>404.59</td>\n",
       "      <td>NaN</td>\n",
       "    </tr>\n",
       "  </tbody>\n",
       "</table>\n",
       "</div>"
      ],
      "text/plain": [
       "          Date  Mauna Loa CO2 (ppm)  Mauna Loa CO2 uncertainty\n",
       "7   1958-10-01               312.43                        NaN\n",
       "8   1958-11-01               313.33                        NaN\n",
       "100 1966-07-01               322.38                        NaN\n",
       "700 2016-07-01               404.59                        NaN"
      ]
     },
     "execution_count": 106,
     "metadata": {},
     "output_type": "execute_result"
    }
   ],
   "source": [
    "CO2_MaunaLoa.loc[[7,8,100,700]]"
   ]
  },
  {
   "cell_type": "markdown",
   "id": "8848c00b-d110-4b49-a1f6-c4d248e400cb",
   "metadata": {
    "tags": []
   },
   "source": [
    "### OK, so we now know how to access data within specific rows ... but what about if we want to isolate a specific column? Say we only care about the Mauna Loa CO2 (ppm) data ...\n",
    "\n",
    "### As we saw earlier, each column has a specific __label__, which is a `string` data type:\n",
    "* __`Date`__, __`Mauna Loa CO2 (ppm)`__, and __`Mauna Loa CO2 uncertainty`__.\n",
    "\n",
    "### We can use this label information to specify which columns to extract, using the syntax of `DataFrame_Name['column label']` as shown below. You see when this cell is executed, that we no longer have information regarding year, month, etc ..."
   ]
  },
  {
   "cell_type": "code",
   "execution_count": 107,
   "id": "d681c02a-cc46-4177-851c-701b0ecb9837",
   "metadata": {
    "tags": []
   },
   "outputs": [
    {
     "data": {
      "text/plain": [
       "0      315.70\n",
       "1      317.45\n",
       "2      317.51\n",
       "3      317.24\n",
       "4      315.86\n",
       "        ...  \n",
       "776    417.51\n",
       "777    418.95\n",
       "778    419.47\n",
       "779    420.41\n",
       "780    421.00\n",
       "Name: Mauna Loa CO2 (ppm), Length: 781, dtype: float64"
      ]
     },
     "execution_count": 107,
     "metadata": {},
     "output_type": "execute_result"
    }
   ],
   "source": [
    "CO2_MaunaLoa[\"Mauna Loa CO2 (ppm)\"]"
   ]
  },
  {
   "cell_type": "markdown",
   "id": "35390991-437f-4848-a73d-9c6a9dc28288",
   "metadata": {
    "tags": []
   },
   "source": [
    "### <span style=\"color:red\"> How would we extract the column with information regarding the Date? Write code in the cell below that does this."
   ]
  },
  {
   "cell_type": "code",
   "execution_count": null,
   "id": "2d1bb2f5-1226-41ab-bacb-632585dfa587",
   "metadata": {},
   "outputs": [],
   "source": []
  },
  {
   "cell_type": "markdown",
   "id": "cf6fe1e2-d18f-410f-9a3d-a9c99b9f5367",
   "metadata": {},
   "source": [
    "### Our columns within a DataFrame are a __Series__ .... which can be further indexed to extract specific values associated with their index label: \n",
    "### To extract the first and last value of atmospheric CO2 concentrations:"
   ]
  },
  {
   "cell_type": "code",
   "execution_count": 108,
   "id": "9f2823f4-ae30-474a-8954-8464323e7f39",
   "metadata": {
    "tags": []
   },
   "outputs": [
    {
     "data": {
      "text/plain": [
       "315.7"
      ]
     },
     "execution_count": 108,
     "metadata": {},
     "output_type": "execute_result"
    }
   ],
   "source": [
    "CO2_MaunaLoa[\"Mauna Loa CO2 (ppm)\"][0]"
   ]
  },
  {
   "cell_type": "code",
   "execution_count": 109,
   "id": "d6169799-f8fe-4d58-b7e3-4147b87e32f5",
   "metadata": {
    "tags": []
   },
   "outputs": [
    {
     "data": {
      "text/plain": [
       "421.0"
      ]
     },
     "execution_count": 109,
     "metadata": {},
     "output_type": "execute_result"
    }
   ],
   "source": [
    "CO2_MaunaLoa[\"Mauna Loa CO2 (ppm)\"][780]"
   ]
  },
  {
   "cell_type": "markdown",
   "id": "dad1afff-8334-4770-a3d0-45d1b426fb80",
   "metadata": {},
   "source": [
    "### Let's create a new variable called CO2_ppm and set it equal to the CO2 concentrations from our Pandas DataFrame and perform some calculations on it:"
   ]
  },
  {
   "cell_type": "code",
   "execution_count": 110,
   "id": "983c4e96-8f01-4d97-9c5f-1a2af3ac7007",
   "metadata": {
    "tags": []
   },
   "outputs": [
    {
     "data": {
      "text/plain": [
       "0      315.70\n",
       "1      317.45\n",
       "2      317.51\n",
       "3      317.24\n",
       "4      315.86\n",
       "        ...  \n",
       "776    417.51\n",
       "777    418.95\n",
       "778    419.47\n",
       "779    420.41\n",
       "780    421.00\n",
       "Name: Mauna Loa CO2 (ppm), Length: 781, dtype: float64"
      ]
     },
     "execution_count": 110,
     "metadata": {},
     "output_type": "execute_result"
    }
   ],
   "source": [
    "CO2_ppm = CO2_MaunaLoa[\"Mauna Loa CO2 (ppm)\"]\n",
    "CO2_ppm"
   ]
  },
  {
   "cell_type": "markdown",
   "id": "be8d1823-48d8-44cb-a449-9f7a08e8bb4e",
   "metadata": {
    "tags": []
   },
   "source": [
    "### Because Pandas is __built on NumPy__, it also has some built in methods for basic calcuations. We can compute the mean, median, mode, max, min, and standard deviation across our Series using the `.mean()`, `.median()`, `.mode()` , `.max()`, `.min()`, and `.std()` methods:\n",
    "\n",
    "### There are a large number of methods you can apply to Pandas Series & DataFrames, a full list can be found here for further study: https://pandas.pydata.org/docs/reference/frame.html"
   ]
  },
  {
   "cell_type": "code",
   "execution_count": 111,
   "id": "0f777fed-1a64-48e9-b39f-bf206ed29f20",
   "metadata": {
    "tags": []
   },
   "outputs": [
    {
     "data": {
      "text/plain": [
       "357.98245838668373"
      ]
     },
     "execution_count": 111,
     "metadata": {},
     "output_type": "execute_result"
    }
   ],
   "source": [
    "CO2_ppm.mean()"
   ]
  },
  {
   "cell_type": "code",
   "execution_count": 112,
   "id": "d632e03e-b8eb-49da-aa41-65f83491eed6",
   "metadata": {
    "tags": []
   },
   "outputs": [
    {
     "data": {
      "text/plain": [
       "354.23"
      ]
     },
     "execution_count": 112,
     "metadata": {},
     "output_type": "execute_result"
    }
   ],
   "source": [
    "CO2_ppm.median()"
   ]
  },
  {
   "cell_type": "code",
   "execution_count": 113,
   "id": "e07ffe90-29db-4da5-aad6-ce979359f020",
   "metadata": {
    "tags": []
   },
   "outputs": [
    {
     "data": {
      "text/plain": [
       "0    336.14\n",
       "Name: Mauna Loa CO2 (ppm), dtype: float64"
      ]
     },
     "execution_count": 113,
     "metadata": {},
     "output_type": "execute_result"
    }
   ],
   "source": [
    "CO2_ppm.mode()"
   ]
  },
  {
   "cell_type": "code",
   "execution_count": 114,
   "id": "d6c9ef76-1113-40e4-bf5d-0b163b81dc0a",
   "metadata": {
    "tags": []
   },
   "outputs": [
    {
     "data": {
      "text/plain": [
       "421.0"
      ]
     },
     "execution_count": 114,
     "metadata": {},
     "output_type": "execute_result"
    }
   ],
   "source": [
    "CO2_ppm.max()"
   ]
  },
  {
   "cell_type": "code",
   "execution_count": 115,
   "id": "c99a1458-4902-4938-9049-6dc7d9a3886e",
   "metadata": {
    "tags": []
   },
   "outputs": [
    {
     "data": {
      "text/plain": [
       "312.43"
      ]
     },
     "execution_count": 115,
     "metadata": {},
     "output_type": "execute_result"
    }
   ],
   "source": [
    "CO2_ppm.min()"
   ]
  },
  {
   "cell_type": "code",
   "execution_count": 116,
   "id": "b65b400d-3174-4933-ab7d-a551783121d0",
   "metadata": {
    "tags": []
   },
   "outputs": [
    {
     "data": {
      "text/plain": [
       "30.79659819458706"
      ]
     },
     "execution_count": 116,
     "metadata": {},
     "output_type": "execute_result"
    }
   ],
   "source": [
    "CO2_ppm.std()"
   ]
  },
  {
   "cell_type": "markdown",
   "id": "37c50064-1194-4dc4-be7b-18daa8c42911",
   "metadata": {
    "tags": []
   },
   "source": [
    "### If you need to take advantage of the sophisticated (and high performance) computing of NumPy, we can easily read in any dataset as a DataFrame and convert a Pandas Series to a NumPy array:"
   ]
  },
  {
   "cell_type": "code",
   "execution_count": 117,
   "id": "436e6bd8-f234-4e36-95b7-489b29fde604",
   "metadata": {
    "tags": []
   },
   "outputs": [
    {
     "data": {
      "text/plain": [
       "numpy.ndarray"
      ]
     },
     "execution_count": 117,
     "metadata": {},
     "output_type": "execute_result"
    }
   ],
   "source": [
    "CO2_ppm_np = np.array(CO2_ppm)\n",
    "type(CO2_ppm_np)"
   ]
  },
  {
   "cell_type": "code",
   "execution_count": 118,
   "id": "d0686a02-228d-4381-ac5d-f54fc80fcdd6",
   "metadata": {
    "tags": []
   },
   "outputs": [
    {
     "data": {
      "text/plain": [
       "1"
      ]
     },
     "execution_count": 118,
     "metadata": {},
     "output_type": "execute_result"
    }
   ],
   "source": [
    "CO2_ppm_np.ndim"
   ]
  },
  {
   "cell_type": "code",
   "execution_count": 119,
   "id": "18a332e0-88f3-4eb2-ae31-788e0aede720",
   "metadata": {
    "tags": []
   },
   "outputs": [
    {
     "data": {
      "text/plain": [
       "(781,)"
      ]
     },
     "execution_count": 119,
     "metadata": {},
     "output_type": "execute_result"
    }
   ],
   "source": [
    "CO2_ppm_np.shape"
   ]
  },
  {
   "cell_type": "code",
   "execution_count": 120,
   "id": "6bb1fbed-6065-40b0-93cc-34c292527e39",
   "metadata": {
    "tags": []
   },
   "outputs": [
    {
     "data": {
      "text/plain": [
       "array([315.7 , 317.45, 317.51, 317.24, 315.86, 314.93, 313.2 , 312.43,\n",
       "       313.33, 314.67, 315.58, 316.48, 316.65, 317.72, 318.29, 318.15,\n",
       "       316.54, 314.8 , 313.84, 313.33, 314.81, 315.58, 316.43, 316.98,\n",
       "       317.58, 319.03, 320.04, 319.59, 318.18, 315.9 , 314.17, 313.83,\n",
       "       315.  , 316.19, 316.89, 317.7 , 318.54, 319.48, 320.58, 319.77,\n",
       "       318.57, 316.79, 314.99, 315.31, 316.1 , 317.01, 317.94, 318.55,\n",
       "       319.68, 320.57, 321.02, 320.62, 319.61, 317.4 , 316.25, 315.42,\n",
       "       316.69, 317.7 , 318.74, 319.07, 319.86, 321.38, 322.25, 321.48,\n",
       "       319.74, 317.77, 316.21, 315.99, 317.07, 318.35, 319.57, 320.01,\n",
       "       320.74, 321.84, 322.26, 321.89, 320.44, 318.69, 316.7 , 316.87,\n",
       "       317.68, 318.71, 319.44, 320.44, 320.89, 322.14, 322.17, 321.87,\n",
       "       321.21, 318.87, 317.81, 317.3 , 318.87, 319.42, 320.62, 321.6 ,\n",
       "       322.39, 323.7 , 324.08, 323.75, 322.38, 320.36, 318.64, 318.1 ,\n",
       "       319.78, 321.03, 322.33, 322.5 , 323.04, 324.42, 325.  , 324.09,\n",
       "       322.54, 320.92, 319.25, 319.39, 320.73, 321.96, 322.57, 323.15,\n",
       "       323.89, 325.02, 325.57, 325.36, 324.14, 322.11, 320.33, 320.25,\n",
       "       321.32, 322.89, 324.  , 324.42, 325.63, 326.66, 327.38, 326.71,\n",
       "       325.88, 323.66, 322.38, 321.78, 322.86, 324.12, 325.06, 325.98,\n",
       "       326.93, 328.13, 328.08, 327.67, 326.34, 324.69, 323.1 , 323.06,\n",
       "       324.01, 325.13, 326.17, 326.68, 327.17, 327.79, 328.93, 328.57,\n",
       "       327.36, 325.43, 323.36, 323.56, 324.8 , 326.01, 326.77, 327.63,\n",
       "       327.75, 329.72, 330.07, 329.09, 328.04, 326.32, 324.84, 325.2 ,\n",
       "       326.5 , 327.55, 328.55, 329.56, 330.3 , 331.5 , 332.48, 332.07,\n",
       "       330.87, 329.31, 327.51, 327.18, 328.16, 328.64, 329.35, 330.71,\n",
       "       331.48, 332.65, 333.18, 332.2 , 331.07, 329.15, 327.33, 327.28,\n",
       "       328.31, 329.58, 330.73, 331.46, 331.94, 333.11, 333.95, 333.42,\n",
       "       331.97, 329.95, 328.5 , 328.36, 329.38, 330.78, 331.56, 332.74,\n",
       "       333.36, 334.74, 334.72, 333.98, 333.08, 330.68, 328.96, 328.72,\n",
       "       330.16, 331.62, 332.68, 333.17, 334.96, 336.14, 336.93, 336.17,\n",
       "       334.89, 332.56, 331.29, 331.28, 332.46, 333.6 , 334.94, 335.26,\n",
       "       336.66, 337.69, 338.02, 338.01, 336.5 , 334.42, 332.36, 332.45,\n",
       "       333.76, 334.91, 336.14, 336.69, 338.27, 338.82, 339.24, 339.26,\n",
       "       337.54, 335.72, 333.97, 334.24, 335.32, 336.81, 337.9 , 338.34,\n",
       "       340.07, 340.93, 341.45, 341.36, 339.45, 337.67, 336.25, 336.14,\n",
       "       337.3 , 338.29, 339.29, 340.55, 341.63, 342.6 , 343.04, 342.54,\n",
       "       340.82, 338.48, 336.95, 337.05, 338.58, 339.91, 340.93, 341.76,\n",
       "       342.77, 343.96, 344.77, 343.88, 342.42, 340.24, 338.38, 338.41,\n",
       "       339.44, 340.78, 341.57, 342.79, 343.37, 345.4 , 346.14, 345.76,\n",
       "       344.32, 342.51, 340.46, 340.53, 341.79, 343.2 , 344.21, 344.92,\n",
       "       345.68, 347.37, 347.78, 347.16, 345.79, 343.74, 341.59, 341.86,\n",
       "       343.31, 345.  , 345.48, 346.41, 347.91, 348.66, 349.28, 348.65,\n",
       "       346.9 , 345.26, 343.47, 343.35, 344.73, 346.12, 346.78, 347.48,\n",
       "       348.25, 349.86, 350.52, 349.98, 348.25, 346.17, 345.48, 344.82,\n",
       "       346.22, 347.49, 348.73, 348.92, 349.81, 351.4 , 352.15, 351.58,\n",
       "       350.21, 348.2 , 346.66, 346.72, 348.08, 349.28, 350.51, 351.7 ,\n",
       "       352.5 , 353.67, 354.35, 353.88, 352.8 , 350.49, 348.97, 349.37,\n",
       "       350.42, 351.62, 353.07, 353.43, 354.08, 355.72, 355.95, 355.44,\n",
       "       354.05, 351.84, 350.09, 350.33, 351.55, 352.91, 353.86, 355.1 ,\n",
       "       355.75, 356.38, 357.38, 356.39, 354.89, 353.06, 351.38, 351.69,\n",
       "       353.14, 354.41, 354.93, 355.82, 357.33, 358.77, 359.23, 358.23,\n",
       "       356.3 , 353.97, 352.34, 352.43, 353.89, 355.21, 356.34, 357.21,\n",
       "       357.97, 359.22, 359.71, 359.44, 357.15, 354.99, 353.01, 353.41,\n",
       "       354.42, 355.68, 357.1 , 357.42, 358.59, 359.39, 360.3 , 359.64,\n",
       "       357.46, 355.76, 354.14, 354.23, 355.53, 357.03, 358.36, 359.04,\n",
       "       360.11, 361.36, 361.78, 360.94, 359.51, 357.59, 355.86, 356.21,\n",
       "       357.65, 359.1 , 360.04, 361.  , 361.98, 363.44, 363.83, 363.33,\n",
       "       361.78, 359.33, 358.32, 358.14, 359.61, 360.82, 362.2 , 363.36,\n",
       "       364.28, 364.69, 365.25, 365.06, 363.69, 361.55, 359.69, 359.72,\n",
       "       361.04, 362.39, 363.24, 364.21, 364.65, 366.48, 366.77, 365.73,\n",
       "       364.46, 362.4 , 360.44, 360.98, 362.65, 364.51, 365.39, 366.1 ,\n",
       "       367.36, 368.79, 369.56, 369.13, 367.98, 366.1 , 364.16, 364.54,\n",
       "       365.67, 367.3 , 368.35, 369.28, 369.84, 371.15, 371.12, 370.46,\n",
       "       369.61, 367.06, 364.95, 365.52, 366.88, 368.26, 369.45, 369.71,\n",
       "       370.75, 371.98, 371.75, 371.87, 370.02, 368.27, 367.15, 367.18,\n",
       "       368.53, 369.83, 370.76, 371.69, 372.63, 373.55, 374.03, 373.4 ,\n",
       "       371.68, 369.78, 368.34, 368.61, 369.94, 371.42, 372.7 , 373.37,\n",
       "       374.3 , 375.19, 375.93, 375.69, 374.16, 372.03, 370.92, 370.73,\n",
       "       372.43, 373.98, 375.07, 375.82, 376.64, 377.92, 378.78, 378.46,\n",
       "       376.88, 374.57, 373.34, 373.31, 374.84, 376.17, 377.17, 378.05,\n",
       "       379.06, 380.54, 380.8 , 379.87, 377.65, 376.17, 374.43, 374.63,\n",
       "       376.33, 377.68, 378.63, 379.91, 380.95, 382.48, 382.64, 382.4 ,\n",
       "       380.93, 378.93, 376.89, 377.19, 378.54, 380.31, 381.58, 382.4 ,\n",
       "       382.86, 384.8 , 385.22, 384.24, 382.65, 380.6 , 379.04, 379.33,\n",
       "       380.35, 382.02, 383.1 , 384.12, 384.81, 386.73, 386.78, 386.33,\n",
       "       384.73, 382.24, 381.2 , 381.37, 382.7 , 384.19, 385.78, 386.06,\n",
       "       386.28, 387.34, 388.78, 387.99, 386.61, 384.32, 383.41, 383.21,\n",
       "       384.41, 385.79, 387.17, 387.7 , 389.04, 389.76, 390.36, 389.7 ,\n",
       "       388.24, 386.29, 384.95, 384.64, 386.23, 387.63, 388.91, 390.41,\n",
       "       391.37, 392.67, 393.21, 392.38, 390.41, 388.54, 387.03, 387.43,\n",
       "       388.87, 389.99, 391.5 , 392.05, 392.8 , 393.44, 394.41, 393.95,\n",
       "       392.72, 390.33, 389.28, 389.19, 390.48, 392.06, 393.31, 394.04,\n",
       "       394.59, 396.38, 396.93, 395.91, 394.56, 392.59, 391.32, 391.27,\n",
       "       393.2 , 394.57, 395.78, 397.03, 397.66, 398.64, 400.02, 398.81,\n",
       "       397.51, 395.39, 393.72, 393.9 , 395.36, 397.03, 398.04, 398.27,\n",
       "       399.91, 401.51, 401.96, 401.43, 399.27, 397.18, 395.54, 396.16,\n",
       "       397.4 , 399.08, 400.18, 400.55, 401.74, 403.34, 404.15, 402.97,\n",
       "       401.46, 399.11, 397.82, 398.49, 400.27, 402.06, 402.73, 404.25,\n",
       "       405.06, 407.6 , 407.9 , 406.99, 404.59, 402.45, 401.23, 401.79,\n",
       "       403.72, 404.64, 406.36, 406.66, 407.54, 409.22, 409.89, 409.08,\n",
       "       407.33, 405.32, 403.57, 403.82, 405.31, 407.  , 408.15, 408.52,\n",
       "       409.59, 410.45, 411.44, 410.99, 408.9 , 407.16, 405.71, 406.19,\n",
       "       408.21, 409.27, 411.03, 411.96, 412.18, 413.54, 414.86, 414.16,\n",
       "       411.97, 410.18, 408.76, 408.75, 410.48, 411.98, 413.61, 414.34,\n",
       "       414.74, 416.45, 417.31, 416.6 , 414.62, 412.78, 411.52, 411.51,\n",
       "       413.12, 414.26, 415.52, 416.75, 417.64, 419.05, 419.13, 418.94,\n",
       "       416.96, 414.47, 413.3 , 413.93, 415.01, 416.71, 418.19, 419.28,\n",
       "       418.81, 420.23, 420.99, 420.99, 418.9 , 417.19, 415.95, 415.78,\n",
       "       417.51, 418.95, 419.47, 420.41, 421.  ])"
      ]
     },
     "execution_count": 120,
     "metadata": {},
     "output_type": "execute_result"
    }
   ],
   "source": [
    "CO2_ppm_np"
   ]
  },
  {
   "cell_type": "code",
   "execution_count": 121,
   "id": "aafb826f-19ea-4405-813e-3b8997872eec",
   "metadata": {
    "tags": []
   },
   "outputs": [
    {
     "data": {
      "text/plain": [
       "array(['1958-03-01T00:00:00.000000000', '1958-04-01T00:00:00.000000000',\n",
       "       '1958-05-01T00:00:00.000000000', '1958-06-01T00:00:00.000000000',\n",
       "       '1958-07-01T00:00:00.000000000', '1958-08-01T00:00:00.000000000',\n",
       "       '1958-09-01T00:00:00.000000000', '1958-10-01T00:00:00.000000000',\n",
       "       '1958-11-01T00:00:00.000000000', '1958-12-01T00:00:00.000000000',\n",
       "       '1959-01-01T00:00:00.000000000', '1959-02-01T00:00:00.000000000',\n",
       "       '1959-03-01T00:00:00.000000000', '1959-04-01T00:00:00.000000000',\n",
       "       '1959-05-01T00:00:00.000000000', '1959-06-01T00:00:00.000000000',\n",
       "       '1959-07-01T00:00:00.000000000', '1959-08-01T00:00:00.000000000',\n",
       "       '1959-09-01T00:00:00.000000000', '1959-10-01T00:00:00.000000000',\n",
       "       '1959-11-01T00:00:00.000000000', '1959-12-01T00:00:00.000000000',\n",
       "       '1960-01-01T00:00:00.000000000', '1960-02-01T00:00:00.000000000',\n",
       "       '1960-03-01T00:00:00.000000000', '1960-04-01T00:00:00.000000000',\n",
       "       '1960-05-01T00:00:00.000000000', '1960-06-01T00:00:00.000000000',\n",
       "       '1960-07-01T00:00:00.000000000', '1960-08-01T00:00:00.000000000',\n",
       "       '1960-09-01T00:00:00.000000000', '1960-10-01T00:00:00.000000000',\n",
       "       '1960-11-01T00:00:00.000000000', '1960-12-01T00:00:00.000000000',\n",
       "       '1961-01-01T00:00:00.000000000', '1961-02-01T00:00:00.000000000',\n",
       "       '1961-03-01T00:00:00.000000000', '1961-04-01T00:00:00.000000000',\n",
       "       '1961-05-01T00:00:00.000000000', '1961-06-01T00:00:00.000000000',\n",
       "       '1961-07-01T00:00:00.000000000', '1961-08-01T00:00:00.000000000',\n",
       "       '1961-09-01T00:00:00.000000000', '1961-10-01T00:00:00.000000000',\n",
       "       '1961-11-01T00:00:00.000000000', '1961-12-01T00:00:00.000000000',\n",
       "       '1962-01-01T00:00:00.000000000', '1962-02-01T00:00:00.000000000',\n",
       "       '1962-03-01T00:00:00.000000000', '1962-04-01T00:00:00.000000000',\n",
       "       '1962-05-01T00:00:00.000000000', '1962-06-01T00:00:00.000000000',\n",
       "       '1962-07-01T00:00:00.000000000', '1962-08-01T00:00:00.000000000',\n",
       "       '1962-09-01T00:00:00.000000000', '1962-10-01T00:00:00.000000000',\n",
       "       '1962-11-01T00:00:00.000000000', '1962-12-01T00:00:00.000000000',\n",
       "       '1963-01-01T00:00:00.000000000', '1963-02-01T00:00:00.000000000',\n",
       "       '1963-03-01T00:00:00.000000000', '1963-04-01T00:00:00.000000000',\n",
       "       '1963-05-01T00:00:00.000000000', '1963-06-01T00:00:00.000000000',\n",
       "       '1963-07-01T00:00:00.000000000', '1963-08-01T00:00:00.000000000',\n",
       "       '1963-09-01T00:00:00.000000000', '1963-10-01T00:00:00.000000000',\n",
       "       '1963-11-01T00:00:00.000000000', '1963-12-01T00:00:00.000000000',\n",
       "       '1964-01-01T00:00:00.000000000', '1964-02-01T00:00:00.000000000',\n",
       "       '1964-03-01T00:00:00.000000000', '1964-04-01T00:00:00.000000000',\n",
       "       '1964-05-01T00:00:00.000000000', '1964-06-01T00:00:00.000000000',\n",
       "       '1964-07-01T00:00:00.000000000', '1964-08-01T00:00:00.000000000',\n",
       "       '1964-09-01T00:00:00.000000000', '1964-10-01T00:00:00.000000000',\n",
       "       '1964-11-01T00:00:00.000000000', '1964-12-01T00:00:00.000000000',\n",
       "       '1965-01-01T00:00:00.000000000', '1965-02-01T00:00:00.000000000',\n",
       "       '1965-03-01T00:00:00.000000000', '1965-04-01T00:00:00.000000000',\n",
       "       '1965-05-01T00:00:00.000000000', '1965-06-01T00:00:00.000000000',\n",
       "       '1965-07-01T00:00:00.000000000', '1965-08-01T00:00:00.000000000',\n",
       "       '1965-09-01T00:00:00.000000000', '1965-10-01T00:00:00.000000000',\n",
       "       '1965-11-01T00:00:00.000000000', '1965-12-01T00:00:00.000000000',\n",
       "       '1966-01-01T00:00:00.000000000', '1966-02-01T00:00:00.000000000',\n",
       "       '1966-03-01T00:00:00.000000000', '1966-04-01T00:00:00.000000000',\n",
       "       '1966-05-01T00:00:00.000000000', '1966-06-01T00:00:00.000000000',\n",
       "       '1966-07-01T00:00:00.000000000', '1966-08-01T00:00:00.000000000',\n",
       "       '1966-09-01T00:00:00.000000000', '1966-10-01T00:00:00.000000000',\n",
       "       '1966-11-01T00:00:00.000000000', '1966-12-01T00:00:00.000000000',\n",
       "       '1967-01-01T00:00:00.000000000', '1967-02-01T00:00:00.000000000',\n",
       "       '1967-03-01T00:00:00.000000000', '1967-04-01T00:00:00.000000000',\n",
       "       '1967-05-01T00:00:00.000000000', '1967-06-01T00:00:00.000000000',\n",
       "       '1967-07-01T00:00:00.000000000', '1967-08-01T00:00:00.000000000',\n",
       "       '1967-09-01T00:00:00.000000000', '1967-10-01T00:00:00.000000000',\n",
       "       '1967-11-01T00:00:00.000000000', '1967-12-01T00:00:00.000000000',\n",
       "       '1968-01-01T00:00:00.000000000', '1968-02-01T00:00:00.000000000',\n",
       "       '1968-03-01T00:00:00.000000000', '1968-04-01T00:00:00.000000000',\n",
       "       '1968-05-01T00:00:00.000000000', '1968-06-01T00:00:00.000000000',\n",
       "       '1968-07-01T00:00:00.000000000', '1968-08-01T00:00:00.000000000',\n",
       "       '1968-09-01T00:00:00.000000000', '1968-10-01T00:00:00.000000000',\n",
       "       '1968-11-01T00:00:00.000000000', '1968-12-01T00:00:00.000000000',\n",
       "       '1969-01-01T00:00:00.000000000', '1969-02-01T00:00:00.000000000',\n",
       "       '1969-03-01T00:00:00.000000000', '1969-04-01T00:00:00.000000000',\n",
       "       '1969-05-01T00:00:00.000000000', '1969-06-01T00:00:00.000000000',\n",
       "       '1969-07-01T00:00:00.000000000', '1969-08-01T00:00:00.000000000',\n",
       "       '1969-09-01T00:00:00.000000000', '1969-10-01T00:00:00.000000000',\n",
       "       '1969-11-01T00:00:00.000000000', '1969-12-01T00:00:00.000000000',\n",
       "       '1970-01-01T00:00:00.000000000', '1970-02-01T00:00:00.000000000',\n",
       "       '1970-03-01T00:00:00.000000000', '1970-04-01T00:00:00.000000000',\n",
       "       '1970-05-01T00:00:00.000000000', '1970-06-01T00:00:00.000000000',\n",
       "       '1970-07-01T00:00:00.000000000', '1970-08-01T00:00:00.000000000',\n",
       "       '1970-09-01T00:00:00.000000000', '1970-10-01T00:00:00.000000000',\n",
       "       '1970-11-01T00:00:00.000000000', '1970-12-01T00:00:00.000000000',\n",
       "       '1971-01-01T00:00:00.000000000', '1971-02-01T00:00:00.000000000',\n",
       "       '1971-03-01T00:00:00.000000000', '1971-04-01T00:00:00.000000000',\n",
       "       '1971-05-01T00:00:00.000000000', '1971-06-01T00:00:00.000000000',\n",
       "       '1971-07-01T00:00:00.000000000', '1971-08-01T00:00:00.000000000',\n",
       "       '1971-09-01T00:00:00.000000000', '1971-10-01T00:00:00.000000000',\n",
       "       '1971-11-01T00:00:00.000000000', '1971-12-01T00:00:00.000000000',\n",
       "       '1972-01-01T00:00:00.000000000', '1972-02-01T00:00:00.000000000',\n",
       "       '1972-03-01T00:00:00.000000000', '1972-04-01T00:00:00.000000000',\n",
       "       '1972-05-01T00:00:00.000000000', '1972-06-01T00:00:00.000000000',\n",
       "       '1972-07-01T00:00:00.000000000', '1972-08-01T00:00:00.000000000',\n",
       "       '1972-09-01T00:00:00.000000000', '1972-10-01T00:00:00.000000000',\n",
       "       '1972-11-01T00:00:00.000000000', '1972-12-01T00:00:00.000000000',\n",
       "       '1973-01-01T00:00:00.000000000', '1973-02-01T00:00:00.000000000',\n",
       "       '1973-03-01T00:00:00.000000000', '1973-04-01T00:00:00.000000000',\n",
       "       '1973-05-01T00:00:00.000000000', '1973-06-01T00:00:00.000000000',\n",
       "       '1973-07-01T00:00:00.000000000', '1973-08-01T00:00:00.000000000',\n",
       "       '1973-09-01T00:00:00.000000000', '1973-10-01T00:00:00.000000000',\n",
       "       '1973-11-01T00:00:00.000000000', '1973-12-01T00:00:00.000000000',\n",
       "       '1974-01-01T00:00:00.000000000', '1974-02-01T00:00:00.000000000',\n",
       "       '1974-03-01T00:00:00.000000000', '1974-04-01T00:00:00.000000000',\n",
       "       '1974-05-01T00:00:00.000000000', '1974-06-01T00:00:00.000000000',\n",
       "       '1974-07-01T00:00:00.000000000', '1974-08-01T00:00:00.000000000',\n",
       "       '1974-09-01T00:00:00.000000000', '1974-10-01T00:00:00.000000000',\n",
       "       '1974-11-01T00:00:00.000000000', '1974-12-01T00:00:00.000000000',\n",
       "       '1975-01-01T00:00:00.000000000', '1975-02-01T00:00:00.000000000',\n",
       "       '1975-03-01T00:00:00.000000000', '1975-04-01T00:00:00.000000000',\n",
       "       '1975-05-01T00:00:00.000000000', '1975-06-01T00:00:00.000000000',\n",
       "       '1975-07-01T00:00:00.000000000', '1975-08-01T00:00:00.000000000',\n",
       "       '1975-09-01T00:00:00.000000000', '1975-10-01T00:00:00.000000000',\n",
       "       '1975-11-01T00:00:00.000000000', '1975-12-01T00:00:00.000000000',\n",
       "       '1976-01-01T00:00:00.000000000', '1976-02-01T00:00:00.000000000',\n",
       "       '1976-03-01T00:00:00.000000000', '1976-04-01T00:00:00.000000000',\n",
       "       '1976-05-01T00:00:00.000000000', '1976-06-01T00:00:00.000000000',\n",
       "       '1976-07-01T00:00:00.000000000', '1976-08-01T00:00:00.000000000',\n",
       "       '1976-09-01T00:00:00.000000000', '1976-10-01T00:00:00.000000000',\n",
       "       '1976-11-01T00:00:00.000000000', '1976-12-01T00:00:00.000000000',\n",
       "       '1977-01-01T00:00:00.000000000', '1977-02-01T00:00:00.000000000',\n",
       "       '1977-03-01T00:00:00.000000000', '1977-04-01T00:00:00.000000000',\n",
       "       '1977-05-01T00:00:00.000000000', '1977-06-01T00:00:00.000000000',\n",
       "       '1977-07-01T00:00:00.000000000', '1977-08-01T00:00:00.000000000',\n",
       "       '1977-09-01T00:00:00.000000000', '1977-10-01T00:00:00.000000000',\n",
       "       '1977-11-01T00:00:00.000000000', '1977-12-01T00:00:00.000000000',\n",
       "       '1978-01-01T00:00:00.000000000', '1978-02-01T00:00:00.000000000',\n",
       "       '1978-03-01T00:00:00.000000000', '1978-04-01T00:00:00.000000000',\n",
       "       '1978-05-01T00:00:00.000000000', '1978-06-01T00:00:00.000000000',\n",
       "       '1978-07-01T00:00:00.000000000', '1978-08-01T00:00:00.000000000',\n",
       "       '1978-09-01T00:00:00.000000000', '1978-10-01T00:00:00.000000000',\n",
       "       '1978-11-01T00:00:00.000000000', '1978-12-01T00:00:00.000000000',\n",
       "       '1979-01-01T00:00:00.000000000', '1979-02-01T00:00:00.000000000',\n",
       "       '1979-03-01T00:00:00.000000000', '1979-04-01T00:00:00.000000000',\n",
       "       '1979-05-01T00:00:00.000000000', '1979-06-01T00:00:00.000000000',\n",
       "       '1979-07-01T00:00:00.000000000', '1979-08-01T00:00:00.000000000',\n",
       "       '1979-09-01T00:00:00.000000000', '1979-10-01T00:00:00.000000000',\n",
       "       '1979-11-01T00:00:00.000000000', '1979-12-01T00:00:00.000000000',\n",
       "       '1980-01-01T00:00:00.000000000', '1980-02-01T00:00:00.000000000',\n",
       "       '1980-03-01T00:00:00.000000000', '1980-04-01T00:00:00.000000000',\n",
       "       '1980-05-01T00:00:00.000000000', '1980-06-01T00:00:00.000000000',\n",
       "       '1980-07-01T00:00:00.000000000', '1980-08-01T00:00:00.000000000',\n",
       "       '1980-09-01T00:00:00.000000000', '1980-10-01T00:00:00.000000000',\n",
       "       '1980-11-01T00:00:00.000000000', '1980-12-01T00:00:00.000000000',\n",
       "       '1981-01-01T00:00:00.000000000', '1981-02-01T00:00:00.000000000',\n",
       "       '1981-03-01T00:00:00.000000000', '1981-04-01T00:00:00.000000000',\n",
       "       '1981-05-01T00:00:00.000000000', '1981-06-01T00:00:00.000000000',\n",
       "       '1981-07-01T00:00:00.000000000', '1981-08-01T00:00:00.000000000',\n",
       "       '1981-09-01T00:00:00.000000000', '1981-10-01T00:00:00.000000000',\n",
       "       '1981-11-01T00:00:00.000000000', '1981-12-01T00:00:00.000000000',\n",
       "       '1982-01-01T00:00:00.000000000', '1982-02-01T00:00:00.000000000',\n",
       "       '1982-03-01T00:00:00.000000000', '1982-04-01T00:00:00.000000000',\n",
       "       '1982-05-01T00:00:00.000000000', '1982-06-01T00:00:00.000000000',\n",
       "       '1982-07-01T00:00:00.000000000', '1982-08-01T00:00:00.000000000',\n",
       "       '1982-09-01T00:00:00.000000000', '1982-10-01T00:00:00.000000000',\n",
       "       '1982-11-01T00:00:00.000000000', '1982-12-01T00:00:00.000000000',\n",
       "       '1983-01-01T00:00:00.000000000', '1983-02-01T00:00:00.000000000',\n",
       "       '1983-03-01T00:00:00.000000000', '1983-04-01T00:00:00.000000000',\n",
       "       '1983-05-01T00:00:00.000000000', '1983-06-01T00:00:00.000000000',\n",
       "       '1983-07-01T00:00:00.000000000', '1983-08-01T00:00:00.000000000',\n",
       "       '1983-09-01T00:00:00.000000000', '1983-10-01T00:00:00.000000000',\n",
       "       '1983-11-01T00:00:00.000000000', '1983-12-01T00:00:00.000000000',\n",
       "       '1984-01-01T00:00:00.000000000', '1984-02-01T00:00:00.000000000',\n",
       "       '1984-03-01T00:00:00.000000000', '1984-04-01T00:00:00.000000000',\n",
       "       '1984-05-01T00:00:00.000000000', '1984-06-01T00:00:00.000000000',\n",
       "       '1984-07-01T00:00:00.000000000', '1984-08-01T00:00:00.000000000',\n",
       "       '1984-09-01T00:00:00.000000000', '1984-10-01T00:00:00.000000000',\n",
       "       '1984-11-01T00:00:00.000000000', '1984-12-01T00:00:00.000000000',\n",
       "       '1985-01-01T00:00:00.000000000', '1985-02-01T00:00:00.000000000',\n",
       "       '1985-03-01T00:00:00.000000000', '1985-04-01T00:00:00.000000000',\n",
       "       '1985-05-01T00:00:00.000000000', '1985-06-01T00:00:00.000000000',\n",
       "       '1985-07-01T00:00:00.000000000', '1985-08-01T00:00:00.000000000',\n",
       "       '1985-09-01T00:00:00.000000000', '1985-10-01T00:00:00.000000000',\n",
       "       '1985-11-01T00:00:00.000000000', '1985-12-01T00:00:00.000000000',\n",
       "       '1986-01-01T00:00:00.000000000', '1986-02-01T00:00:00.000000000',\n",
       "       '1986-03-01T00:00:00.000000000', '1986-04-01T00:00:00.000000000',\n",
       "       '1986-05-01T00:00:00.000000000', '1986-06-01T00:00:00.000000000',\n",
       "       '1986-07-01T00:00:00.000000000', '1986-08-01T00:00:00.000000000',\n",
       "       '1986-09-01T00:00:00.000000000', '1986-10-01T00:00:00.000000000',\n",
       "       '1986-11-01T00:00:00.000000000', '1986-12-01T00:00:00.000000000',\n",
       "       '1987-01-01T00:00:00.000000000', '1987-02-01T00:00:00.000000000',\n",
       "       '1987-03-01T00:00:00.000000000', '1987-04-01T00:00:00.000000000',\n",
       "       '1987-05-01T00:00:00.000000000', '1987-06-01T00:00:00.000000000',\n",
       "       '1987-07-01T00:00:00.000000000', '1987-08-01T00:00:00.000000000',\n",
       "       '1987-09-01T00:00:00.000000000', '1987-10-01T00:00:00.000000000',\n",
       "       '1987-11-01T00:00:00.000000000', '1987-12-01T00:00:00.000000000',\n",
       "       '1988-01-01T00:00:00.000000000', '1988-02-01T00:00:00.000000000',\n",
       "       '1988-03-01T00:00:00.000000000', '1988-04-01T00:00:00.000000000',\n",
       "       '1988-05-01T00:00:00.000000000', '1988-06-01T00:00:00.000000000',\n",
       "       '1988-07-01T00:00:00.000000000', '1988-08-01T00:00:00.000000000',\n",
       "       '1988-09-01T00:00:00.000000000', '1988-10-01T00:00:00.000000000',\n",
       "       '1988-11-01T00:00:00.000000000', '1988-12-01T00:00:00.000000000',\n",
       "       '1989-01-01T00:00:00.000000000', '1989-02-01T00:00:00.000000000',\n",
       "       '1989-03-01T00:00:00.000000000', '1989-04-01T00:00:00.000000000',\n",
       "       '1989-05-01T00:00:00.000000000', '1989-06-01T00:00:00.000000000',\n",
       "       '1989-07-01T00:00:00.000000000', '1989-08-01T00:00:00.000000000',\n",
       "       '1989-09-01T00:00:00.000000000', '1989-10-01T00:00:00.000000000',\n",
       "       '1989-11-01T00:00:00.000000000', '1989-12-01T00:00:00.000000000',\n",
       "       '1990-01-01T00:00:00.000000000', '1990-02-01T00:00:00.000000000',\n",
       "       '1990-03-01T00:00:00.000000000', '1990-04-01T00:00:00.000000000',\n",
       "       '1990-05-01T00:00:00.000000000', '1990-06-01T00:00:00.000000000',\n",
       "       '1990-07-01T00:00:00.000000000', '1990-08-01T00:00:00.000000000',\n",
       "       '1990-09-01T00:00:00.000000000', '1990-10-01T00:00:00.000000000',\n",
       "       '1990-11-01T00:00:00.000000000', '1990-12-01T00:00:00.000000000',\n",
       "       '1991-01-01T00:00:00.000000000', '1991-02-01T00:00:00.000000000',\n",
       "       '1991-03-01T00:00:00.000000000', '1991-04-01T00:00:00.000000000',\n",
       "       '1991-05-01T00:00:00.000000000', '1991-06-01T00:00:00.000000000',\n",
       "       '1991-07-01T00:00:00.000000000', '1991-08-01T00:00:00.000000000',\n",
       "       '1991-09-01T00:00:00.000000000', '1991-10-01T00:00:00.000000000',\n",
       "       '1991-11-01T00:00:00.000000000', '1991-12-01T00:00:00.000000000',\n",
       "       '1992-01-01T00:00:00.000000000', '1992-02-01T00:00:00.000000000',\n",
       "       '1992-03-01T00:00:00.000000000', '1992-04-01T00:00:00.000000000',\n",
       "       '1992-05-01T00:00:00.000000000', '1992-06-01T00:00:00.000000000',\n",
       "       '1992-07-01T00:00:00.000000000', '1992-08-01T00:00:00.000000000',\n",
       "       '1992-09-01T00:00:00.000000000', '1992-10-01T00:00:00.000000000',\n",
       "       '1992-11-01T00:00:00.000000000', '1992-12-01T00:00:00.000000000',\n",
       "       '1993-01-01T00:00:00.000000000', '1993-02-01T00:00:00.000000000',\n",
       "       '1993-03-01T00:00:00.000000000', '1993-04-01T00:00:00.000000000',\n",
       "       '1993-05-01T00:00:00.000000000', '1993-06-01T00:00:00.000000000',\n",
       "       '1993-07-01T00:00:00.000000000', '1993-08-01T00:00:00.000000000',\n",
       "       '1993-09-01T00:00:00.000000000', '1993-10-01T00:00:00.000000000',\n",
       "       '1993-11-01T00:00:00.000000000', '1993-12-01T00:00:00.000000000',\n",
       "       '1994-01-01T00:00:00.000000000', '1994-02-01T00:00:00.000000000',\n",
       "       '1994-03-01T00:00:00.000000000', '1994-04-01T00:00:00.000000000',\n",
       "       '1994-05-01T00:00:00.000000000', '1994-06-01T00:00:00.000000000',\n",
       "       '1994-07-01T00:00:00.000000000', '1994-08-01T00:00:00.000000000',\n",
       "       '1994-09-01T00:00:00.000000000', '1994-10-01T00:00:00.000000000',\n",
       "       '1994-11-01T00:00:00.000000000', '1994-12-01T00:00:00.000000000',\n",
       "       '1995-01-01T00:00:00.000000000', '1995-02-01T00:00:00.000000000',\n",
       "       '1995-03-01T00:00:00.000000000', '1995-04-01T00:00:00.000000000',\n",
       "       '1995-05-01T00:00:00.000000000', '1995-06-01T00:00:00.000000000',\n",
       "       '1995-07-01T00:00:00.000000000', '1995-08-01T00:00:00.000000000',\n",
       "       '1995-09-01T00:00:00.000000000', '1995-10-01T00:00:00.000000000',\n",
       "       '1995-11-01T00:00:00.000000000', '1995-12-01T00:00:00.000000000',\n",
       "       '1996-01-01T00:00:00.000000000', '1996-02-01T00:00:00.000000000',\n",
       "       '1996-03-01T00:00:00.000000000', '1996-04-01T00:00:00.000000000',\n",
       "       '1996-05-01T00:00:00.000000000', '1996-06-01T00:00:00.000000000',\n",
       "       '1996-07-01T00:00:00.000000000', '1996-08-01T00:00:00.000000000',\n",
       "       '1996-09-01T00:00:00.000000000', '1996-10-01T00:00:00.000000000',\n",
       "       '1996-11-01T00:00:00.000000000', '1996-12-01T00:00:00.000000000',\n",
       "       '1997-01-01T00:00:00.000000000', '1997-02-01T00:00:00.000000000',\n",
       "       '1997-03-01T00:00:00.000000000', '1997-04-01T00:00:00.000000000',\n",
       "       '1997-05-01T00:00:00.000000000', '1997-06-01T00:00:00.000000000',\n",
       "       '1997-07-01T00:00:00.000000000', '1997-08-01T00:00:00.000000000',\n",
       "       '1997-09-01T00:00:00.000000000', '1997-10-01T00:00:00.000000000',\n",
       "       '1997-11-01T00:00:00.000000000', '1997-12-01T00:00:00.000000000',\n",
       "       '1998-01-01T00:00:00.000000000', '1998-02-01T00:00:00.000000000',\n",
       "       '1998-03-01T00:00:00.000000000', '1998-04-01T00:00:00.000000000',\n",
       "       '1998-05-01T00:00:00.000000000', '1998-06-01T00:00:00.000000000',\n",
       "       '1998-07-01T00:00:00.000000000', '1998-08-01T00:00:00.000000000',\n",
       "       '1998-09-01T00:00:00.000000000', '1998-10-01T00:00:00.000000000',\n",
       "       '1998-11-01T00:00:00.000000000', '1998-12-01T00:00:00.000000000',\n",
       "       '1999-01-01T00:00:00.000000000', '1999-02-01T00:00:00.000000000',\n",
       "       '1999-03-01T00:00:00.000000000', '1999-04-01T00:00:00.000000000',\n",
       "       '1999-05-01T00:00:00.000000000', '1999-06-01T00:00:00.000000000',\n",
       "       '1999-07-01T00:00:00.000000000', '1999-08-01T00:00:00.000000000',\n",
       "       '1999-09-01T00:00:00.000000000', '1999-10-01T00:00:00.000000000',\n",
       "       '1999-11-01T00:00:00.000000000', '1999-12-01T00:00:00.000000000',\n",
       "       '2000-01-01T00:00:00.000000000', '2000-02-01T00:00:00.000000000',\n",
       "       '2000-03-01T00:00:00.000000000', '2000-04-01T00:00:00.000000000',\n",
       "       '2000-05-01T00:00:00.000000000', '2000-06-01T00:00:00.000000000',\n",
       "       '2000-07-01T00:00:00.000000000', '2000-08-01T00:00:00.000000000',\n",
       "       '2000-09-01T00:00:00.000000000', '2000-10-01T00:00:00.000000000',\n",
       "       '2000-11-01T00:00:00.000000000', '2000-12-01T00:00:00.000000000',\n",
       "       '2001-01-01T00:00:00.000000000', '2001-02-01T00:00:00.000000000',\n",
       "       '2001-03-01T00:00:00.000000000', '2001-04-01T00:00:00.000000000',\n",
       "       '2001-05-01T00:00:00.000000000', '2001-06-01T00:00:00.000000000',\n",
       "       '2001-07-01T00:00:00.000000000', '2001-08-01T00:00:00.000000000',\n",
       "       '2001-09-01T00:00:00.000000000', '2001-10-01T00:00:00.000000000',\n",
       "       '2001-11-01T00:00:00.000000000', '2001-12-01T00:00:00.000000000',\n",
       "       '2002-01-01T00:00:00.000000000', '2002-02-01T00:00:00.000000000',\n",
       "       '2002-03-01T00:00:00.000000000', '2002-04-01T00:00:00.000000000',\n",
       "       '2002-05-01T00:00:00.000000000', '2002-06-01T00:00:00.000000000',\n",
       "       '2002-07-01T00:00:00.000000000', '2002-08-01T00:00:00.000000000',\n",
       "       '2002-09-01T00:00:00.000000000', '2002-10-01T00:00:00.000000000',\n",
       "       '2002-11-01T00:00:00.000000000', '2002-12-01T00:00:00.000000000',\n",
       "       '2003-01-01T00:00:00.000000000', '2003-02-01T00:00:00.000000000',\n",
       "       '2003-03-01T00:00:00.000000000', '2003-04-01T00:00:00.000000000',\n",
       "       '2003-05-01T00:00:00.000000000', '2003-06-01T00:00:00.000000000',\n",
       "       '2003-07-01T00:00:00.000000000', '2003-08-01T00:00:00.000000000',\n",
       "       '2003-09-01T00:00:00.000000000', '2003-10-01T00:00:00.000000000',\n",
       "       '2003-11-01T00:00:00.000000000', '2003-12-01T00:00:00.000000000',\n",
       "       '2004-01-01T00:00:00.000000000', '2004-02-01T00:00:00.000000000',\n",
       "       '2004-03-01T00:00:00.000000000', '2004-04-01T00:00:00.000000000',\n",
       "       '2004-05-01T00:00:00.000000000', '2004-06-01T00:00:00.000000000',\n",
       "       '2004-07-01T00:00:00.000000000', '2004-08-01T00:00:00.000000000',\n",
       "       '2004-09-01T00:00:00.000000000', '2004-10-01T00:00:00.000000000',\n",
       "       '2004-11-01T00:00:00.000000000', '2004-12-01T00:00:00.000000000',\n",
       "       '2005-01-01T00:00:00.000000000', '2005-02-01T00:00:00.000000000',\n",
       "       '2005-03-01T00:00:00.000000000', '2005-04-01T00:00:00.000000000',\n",
       "       '2005-05-01T00:00:00.000000000', '2005-06-01T00:00:00.000000000',\n",
       "       '2005-07-01T00:00:00.000000000', '2005-08-01T00:00:00.000000000',\n",
       "       '2005-09-01T00:00:00.000000000', '2005-10-01T00:00:00.000000000',\n",
       "       '2005-11-01T00:00:00.000000000', '2005-12-01T00:00:00.000000000',\n",
       "       '2006-01-01T00:00:00.000000000', '2006-02-01T00:00:00.000000000',\n",
       "       '2006-03-01T00:00:00.000000000', '2006-04-01T00:00:00.000000000',\n",
       "       '2006-05-01T00:00:00.000000000', '2006-06-01T00:00:00.000000000',\n",
       "       '2006-07-01T00:00:00.000000000', '2006-08-01T00:00:00.000000000',\n",
       "       '2006-09-01T00:00:00.000000000', '2006-10-01T00:00:00.000000000',\n",
       "       '2006-11-01T00:00:00.000000000', '2006-12-01T00:00:00.000000000',\n",
       "       '2007-01-01T00:00:00.000000000', '2007-02-01T00:00:00.000000000',\n",
       "       '2007-03-01T00:00:00.000000000', '2007-04-01T00:00:00.000000000',\n",
       "       '2007-05-01T00:00:00.000000000', '2007-06-01T00:00:00.000000000',\n",
       "       '2007-07-01T00:00:00.000000000', '2007-08-01T00:00:00.000000000',\n",
       "       '2007-09-01T00:00:00.000000000', '2007-10-01T00:00:00.000000000',\n",
       "       '2007-11-01T00:00:00.000000000', '2007-12-01T00:00:00.000000000',\n",
       "       '2008-01-01T00:00:00.000000000', '2008-02-01T00:00:00.000000000',\n",
       "       '2008-03-01T00:00:00.000000000', '2008-04-01T00:00:00.000000000',\n",
       "       '2008-05-01T00:00:00.000000000', '2008-06-01T00:00:00.000000000',\n",
       "       '2008-07-01T00:00:00.000000000', '2008-08-01T00:00:00.000000000',\n",
       "       '2008-09-01T00:00:00.000000000', '2008-10-01T00:00:00.000000000',\n",
       "       '2008-11-01T00:00:00.000000000', '2008-12-01T00:00:00.000000000',\n",
       "       '2009-01-01T00:00:00.000000000', '2009-02-01T00:00:00.000000000',\n",
       "       '2009-03-01T00:00:00.000000000', '2009-04-01T00:00:00.000000000',\n",
       "       '2009-05-01T00:00:00.000000000', '2009-06-01T00:00:00.000000000',\n",
       "       '2009-07-01T00:00:00.000000000', '2009-08-01T00:00:00.000000000',\n",
       "       '2009-09-01T00:00:00.000000000', '2009-10-01T00:00:00.000000000',\n",
       "       '2009-11-01T00:00:00.000000000', '2009-12-01T00:00:00.000000000',\n",
       "       '2010-01-01T00:00:00.000000000', '2010-02-01T00:00:00.000000000',\n",
       "       '2010-03-01T00:00:00.000000000', '2010-04-01T00:00:00.000000000',\n",
       "       '2010-05-01T00:00:00.000000000', '2010-06-01T00:00:00.000000000',\n",
       "       '2010-07-01T00:00:00.000000000', '2010-08-01T00:00:00.000000000',\n",
       "       '2010-09-01T00:00:00.000000000', '2010-10-01T00:00:00.000000000',\n",
       "       '2010-11-01T00:00:00.000000000', '2010-12-01T00:00:00.000000000',\n",
       "       '2011-01-01T00:00:00.000000000', '2011-02-01T00:00:00.000000000',\n",
       "       '2011-03-01T00:00:00.000000000', '2011-04-01T00:00:00.000000000',\n",
       "       '2011-05-01T00:00:00.000000000', '2011-06-01T00:00:00.000000000',\n",
       "       '2011-07-01T00:00:00.000000000', '2011-08-01T00:00:00.000000000',\n",
       "       '2011-09-01T00:00:00.000000000', '2011-10-01T00:00:00.000000000',\n",
       "       '2011-11-01T00:00:00.000000000', '2011-12-01T00:00:00.000000000',\n",
       "       '2012-01-01T00:00:00.000000000', '2012-02-01T00:00:00.000000000',\n",
       "       '2012-03-01T00:00:00.000000000', '2012-04-01T00:00:00.000000000',\n",
       "       '2012-05-01T00:00:00.000000000', '2012-06-01T00:00:00.000000000',\n",
       "       '2012-07-01T00:00:00.000000000', '2012-08-01T00:00:00.000000000',\n",
       "       '2012-09-01T00:00:00.000000000', '2012-10-01T00:00:00.000000000',\n",
       "       '2012-11-01T00:00:00.000000000', '2012-12-01T00:00:00.000000000',\n",
       "       '2013-01-01T00:00:00.000000000', '2013-02-01T00:00:00.000000000',\n",
       "       '2013-03-01T00:00:00.000000000', '2013-04-01T00:00:00.000000000',\n",
       "       '2013-05-01T00:00:00.000000000', '2013-06-01T00:00:00.000000000',\n",
       "       '2013-07-01T00:00:00.000000000', '2013-08-01T00:00:00.000000000',\n",
       "       '2013-09-01T00:00:00.000000000', '2013-10-01T00:00:00.000000000',\n",
       "       '2013-11-01T00:00:00.000000000', '2013-12-01T00:00:00.000000000',\n",
       "       '2014-01-01T00:00:00.000000000', '2014-02-01T00:00:00.000000000',\n",
       "       '2014-03-01T00:00:00.000000000', '2014-04-01T00:00:00.000000000',\n",
       "       '2014-05-01T00:00:00.000000000', '2014-06-01T00:00:00.000000000',\n",
       "       '2014-07-01T00:00:00.000000000', '2014-08-01T00:00:00.000000000',\n",
       "       '2014-09-01T00:00:00.000000000', '2014-10-01T00:00:00.000000000',\n",
       "       '2014-11-01T00:00:00.000000000', '2014-12-01T00:00:00.000000000',\n",
       "       '2015-01-01T00:00:00.000000000', '2015-02-01T00:00:00.000000000',\n",
       "       '2015-03-01T00:00:00.000000000', '2015-04-01T00:00:00.000000000',\n",
       "       '2015-05-01T00:00:00.000000000', '2015-06-01T00:00:00.000000000',\n",
       "       '2015-07-01T00:00:00.000000000', '2015-08-01T00:00:00.000000000',\n",
       "       '2015-09-01T00:00:00.000000000', '2015-10-01T00:00:00.000000000',\n",
       "       '2015-11-01T00:00:00.000000000', '2015-12-01T00:00:00.000000000',\n",
       "       '2016-01-01T00:00:00.000000000', '2016-02-01T00:00:00.000000000',\n",
       "       '2016-03-01T00:00:00.000000000', '2016-04-01T00:00:00.000000000',\n",
       "       '2016-05-01T00:00:00.000000000', '2016-06-01T00:00:00.000000000',\n",
       "       '2016-07-01T00:00:00.000000000', '2016-08-01T00:00:00.000000000',\n",
       "       '2016-09-01T00:00:00.000000000', '2016-10-01T00:00:00.000000000',\n",
       "       '2016-11-01T00:00:00.000000000', '2016-12-01T00:00:00.000000000',\n",
       "       '2017-01-01T00:00:00.000000000', '2017-02-01T00:00:00.000000000',\n",
       "       '2017-03-01T00:00:00.000000000', '2017-04-01T00:00:00.000000000',\n",
       "       '2017-05-01T00:00:00.000000000', '2017-06-01T00:00:00.000000000',\n",
       "       '2017-07-01T00:00:00.000000000', '2017-08-01T00:00:00.000000000',\n",
       "       '2017-09-01T00:00:00.000000000', '2017-10-01T00:00:00.000000000',\n",
       "       '2017-11-01T00:00:00.000000000', '2017-12-01T00:00:00.000000000',\n",
       "       '2018-01-01T00:00:00.000000000', '2018-02-01T00:00:00.000000000',\n",
       "       '2018-03-01T00:00:00.000000000', '2018-04-01T00:00:00.000000000',\n",
       "       '2018-05-01T00:00:00.000000000', '2018-06-01T00:00:00.000000000',\n",
       "       '2018-07-01T00:00:00.000000000', '2018-08-01T00:00:00.000000000',\n",
       "       '2018-09-01T00:00:00.000000000', '2018-10-01T00:00:00.000000000',\n",
       "       '2018-11-01T00:00:00.000000000', '2018-12-01T00:00:00.000000000',\n",
       "       '2019-01-01T00:00:00.000000000', '2019-02-01T00:00:00.000000000',\n",
       "       '2019-03-01T00:00:00.000000000', '2019-04-01T00:00:00.000000000',\n",
       "       '2019-05-01T00:00:00.000000000', '2019-06-01T00:00:00.000000000',\n",
       "       '2019-07-01T00:00:00.000000000', '2019-08-01T00:00:00.000000000',\n",
       "       '2019-09-01T00:00:00.000000000', '2019-10-01T00:00:00.000000000',\n",
       "       '2019-11-01T00:00:00.000000000', '2019-12-01T00:00:00.000000000',\n",
       "       '2020-01-01T00:00:00.000000000', '2020-02-01T00:00:00.000000000',\n",
       "       '2020-03-01T00:00:00.000000000', '2020-04-01T00:00:00.000000000',\n",
       "       '2020-05-01T00:00:00.000000000', '2020-06-01T00:00:00.000000000',\n",
       "       '2020-07-01T00:00:00.000000000', '2020-08-01T00:00:00.000000000',\n",
       "       '2020-09-01T00:00:00.000000000', '2020-10-01T00:00:00.000000000',\n",
       "       '2020-11-01T00:00:00.000000000', '2020-12-01T00:00:00.000000000',\n",
       "       '2021-01-01T00:00:00.000000000', '2021-02-01T00:00:00.000000000',\n",
       "       '2021-03-01T00:00:00.000000000', '2021-04-01T00:00:00.000000000',\n",
       "       '2021-05-01T00:00:00.000000000', '2021-06-01T00:00:00.000000000',\n",
       "       '2021-07-01T00:00:00.000000000', '2021-08-01T00:00:00.000000000',\n",
       "       '2021-09-01T00:00:00.000000000', '2021-10-01T00:00:00.000000000',\n",
       "       '2021-11-01T00:00:00.000000000', '2021-12-01T00:00:00.000000000',\n",
       "       '2022-01-01T00:00:00.000000000', '2022-02-01T00:00:00.000000000',\n",
       "       '2022-03-01T00:00:00.000000000', '2022-04-01T00:00:00.000000000',\n",
       "       '2022-05-01T00:00:00.000000000', '2022-06-01T00:00:00.000000000',\n",
       "       '2022-07-01T00:00:00.000000000', '2022-08-01T00:00:00.000000000',\n",
       "       '2022-09-01T00:00:00.000000000', '2022-10-01T00:00:00.000000000',\n",
       "       '2022-11-01T00:00:00.000000000', '2022-12-01T00:00:00.000000000',\n",
       "       '2023-01-01T00:00:00.000000000', '2023-02-01T00:00:00.000000000',\n",
       "       '2023-03-01T00:00:00.000000000'], dtype='datetime64[ns]')"
      ]
     },
     "execution_count": 121,
     "metadata": {},
     "output_type": "execute_result"
    }
   ],
   "source": [
    "CO2_year = np.array(CO2_MaunaLoa[\"Date\"])\n",
    "CO2_year"
   ]
  },
  {
   "cell_type": "markdown",
   "id": "3a36bf96-04c0-4b67-9ef0-daecd7977567",
   "metadata": {},
   "source": [
    "### We can create a 2 dimensional NumPy array that is a __timeseries__ of CO2 using Pandas' `.to_numpy()` method:"
   ]
  },
  {
   "cell_type": "code",
   "execution_count": 122,
   "id": "b4064365-209a-47d7-9577-bb2080f07f1c",
   "metadata": {
    "tags": []
   },
   "outputs": [],
   "source": [
    "CO2_timeseries = CO2_MaunaLoa[[\"Date\",\"Mauna Loa CO2 (ppm)\"]].to_numpy()"
   ]
  },
  {
   "cell_type": "code",
   "execution_count": 123,
   "id": "a15eb8f9-fab9-4fca-9805-58a64f3312ee",
   "metadata": {
    "tags": []
   },
   "outputs": [
    {
     "data": {
      "text/plain": [
       "array([[Timestamp('1958-03-01 00:00:00'), 315.7],\n",
       "       [Timestamp('1958-04-01 00:00:00'), 317.45],\n",
       "       [Timestamp('1958-05-01 00:00:00'), 317.51],\n",
       "       ...,\n",
       "       [Timestamp('2023-01-01 00:00:00'), 419.47],\n",
       "       [Timestamp('2023-02-01 00:00:00'), 420.41],\n",
       "       [Timestamp('2023-03-01 00:00:00'), 421.0]], dtype=object)"
      ]
     },
     "execution_count": 123,
     "metadata": {},
     "output_type": "execute_result"
    }
   ],
   "source": [
    "CO2_timeseries"
   ]
  },
  {
   "cell_type": "markdown",
   "id": "084bb605-37f8-4f24-9d6b-31913910641d",
   "metadata": {},
   "source": [
    "### We could have also used this method above when we created a 1D array:"
   ]
  },
  {
   "cell_type": "code",
   "execution_count": 124,
   "id": "4a37dd4c-3760-448b-9fde-f96140fcbe49",
   "metadata": {
    "tags": []
   },
   "outputs": [],
   "source": [
    "CO2_ppm_np = CO2_MaunaLoa[\"Mauna Loa CO2 (ppm)\"].to_numpy()"
   ]
  },
  {
   "cell_type": "markdown",
   "id": "691603d4-175c-427d-ad48-9c6224cad5d9",
   "metadata": {},
   "source": [
    "### Now we can use Pyplot, a submodule of the Matplotlib library to visualize the data, specifying the x and y axes that correspond to the Columns in our Pandas DataFrame."
   ]
  },
  {
   "cell_type": "code",
   "execution_count": 125,
   "id": "22a34dc3-7278-450f-9bdc-a8a24177cff3",
   "metadata": {
    "tags": []
   },
   "outputs": [
    {
     "data": {
      "text/plain": [
       "<Axes: xlabel='Date'>"
      ]
     },
     "execution_count": 125,
     "metadata": {},
     "output_type": "execute_result"
    },
    {
     "data": {
      "image/png": "[encoded data removed]",
      "text/plain": [
       "<Figure size 1200x600 with 1 Axes>"
      ]
     },
     "metadata": {
      "image/png": {
       "height": 525,
       "width": 986
      }
     },
     "output_type": "display_data"
    }
   ],
   "source": [
    "CO2_MaunaLoa.plot(x='Date',\n",
    "            y='Mauna Loa CO2 (ppm)',\n",
    "            linewidth=2)"
   ]
  },
  {
   "cell_type": "markdown",
   "id": "535e5691-5319-451f-933f-755881021699",
   "metadata": {},
   "source": [
    "### Or we can use matplotlib pyplot and specify the x, y as follows:"
   ]
  },
  {
   "cell_type": "code",
   "execution_count": 126,
   "id": "777b8205-fd34-4b90-9d4c-cb2177a37f46",
   "metadata": {
    "tags": []
   },
   "outputs": [
    {
     "data": {
      "text/plain": [
       "<matplotlib.legend.Legend at 0x7f0878304fd0>"
      ]
     },
     "execution_count": 126,
     "metadata": {},
     "output_type": "execute_result"
    },
    {
     "data": {
      "image/png": "[encoded data removed]",
      "text/plain": [
       "<Figure size 500x500 with 1 Axes>"
      ]
     },
     "metadata": {
      "image/png": {
       "height": 428,
       "width": 443
      }
     },
     "output_type": "display_data"
    }
   ],
   "source": [
    "fig, ax = plt.subplots(figsize=(5,5))\n",
    "\n",
    "ax.plot(CO2_MaunaLoa['Date'],\n",
    "         CO2_MaunaLoa['Mauna Loa CO2 (ppm)'],\n",
    "         linewidth=2,label='Mauna Loa',\n",
    "         color='black')\n",
    "\n",
    "## plot a legend on the ax\n",
    "plt.legend()"
   ]
  },
  {
   "cell_type": "markdown",
   "id": "f9dd60c2-c760-48f3-b4bf-ffd007e34891",
   "metadata": {},
   "source": [
    "### What if we wanted to customize this more? This is just a small flavor of what we can do, your next lesson focuses on developing your plotting and plot customization skills!"
   ]
  },
  {
   "cell_type": "code",
   "execution_count": 127,
   "id": "f640af29-3a92-464c-a03c-5457bcb3b03d",
   "metadata": {
    "tags": []
   },
   "outputs": [
    {
     "data": {
      "image/png": "[encoded data removed]",
      "text/plain": [
       "<Figure size 500x500 with 1 Axes>"
      ]
     },
     "metadata": {
      "image/png": {
       "height": 469,
       "width": 462
      }
     },
     "output_type": "display_data"
    }
   ],
   "source": [
    "## Create your figure and axis objects using the subplots() \n",
    "## function from pyplot (which you imported using the alias plt):\n",
    "\n",
    "fig, ax = plt.subplots(figsize=(5,5))\n",
    "\n",
    "ax.plot(CO2_MaunaLoa['Date'],\n",
    "         CO2_MaunaLoa['Mauna Loa CO2 (ppm)'],\n",
    "         linewidth=2,label='Mauna Loa',\n",
    "         color='black')\n",
    "\n",
    "## Set properties of title, ylabels and xlabels\n",
    "ax.set_title('Measured CO2 from Mauna Loa',\n",
    "             fontsize=12, fontweight='bold')\n",
    "ax.set_ylabel('CO2 concentration [ppm]',\n",
    "             fontsize=12, fontweight='bold')\n",
    "ax.set_xlabel('Year',\n",
    "             fontsize=12, fontweight='bold')\n",
    "\n",
    "plt.legend() ## Add legend, with label corresponding the label you set in the plt.plot() above.\n",
    "plt.grid(linestyle='--') ## Add dashed grid lines\n",
    "\n",
    "### adjust ticklabel font properties:\n",
    "for tick in ax.get_xticklabels():\n",
    "    tick.set_fontsize(8)\n",
    "    tick.set_fontweight(\"bold\")\n",
    "for tick in ax.get_yticklabels():\n",
    "    tick.set_fontsize(8)\n",
    "    tick.set_fontweight(\"bold\")\n",
    "    \n",
    "## Change background color\n",
    "# Setting the background color of the plot\n",
    "# using set_facecolor() method\n",
    "\n",
    "ax.set_facecolor(\"azure\")"
   ]
  },
  {
   "cell_type": "markdown",
   "id": "68f877e8-6497-483d-9fee-be560ed6528e",
   "metadata": {},
   "source": [
    "### This lesson so far has focused on reading in and working with datasets that are stored as .csv files, but what if you have a dataset that is an Excel spreadsheet or a .txt file (like the .txt you just created in the arrays lesson!) ??? We will be working exclusively with .csv files for our 1D climate datasets, however you may wish to use the code below as a reference if you are using other datasets in your own research."
   ]
  },
  {
   "cell_type": "markdown",
   "id": "162c425c-e477-4f48-b54d-da96339cc9de",
   "metadata": {
    "tags": []
   },
   "source": [
    "### The code below reads in an __Excel (.xlxs, .xls)__ file as a Pandas DataFrame. In the most basic use-case, read_excel takes a path to an Excel file, and the sheet_name (if there are multiple sheets) indicating which sheet to parse."
   ]
  },
  {
   "cell_type": "markdown",
   "id": "ad404845-0cc0-4de8-9ad9-d2027f9f4dbf",
   "metadata": {
    "tags": []
   },
   "source": [
    "#### `# Returns a DataFrame`\n",
    "#### `pd.read_excel(\"path_to_file.xls\", sheet_name=\"Sheet1\")`\n",
    "\n",
    "### We won't be working with Excel files in this class"
   ]
  },
  {
   "cell_type": "markdown",
   "id": "7b29160c-4cab-45fe-bccc-e16a1a9ec5c7",
   "metadata": {},
   "source": [
    "### The code below reads in a text file (.txt) as a Pandas DataFrame. In this case we also use `pd.read_csv` however we indicate the the separator is a single space ('') for the space character because, for text files, the space character will seperate each field."
   ]
  },
  {
   "cell_type": "markdown",
   "id": "4612d199-9b70-496d-b1d1-7fdc6357cb32",
   "metadata": {},
   "source": [
    "#### `# read text file into pandas DataFrame`\n",
    "#### `df = pd.read_csv(\"gfg.txt\", sep=\" \")`"
   ]
  },
  {
   "cell_type": "markdown",
   "id": "4c2870bd-2c0e-4404-8c3f-a0f1cb1a4349",
   "metadata": {},
   "source": [
    "### Now that you know how to open up and work with files that contain 1D arrays, our next task will be becoming familiar with customizing plots using Matplotlib! But first .... your task is to use the remainder of the class to complete the following assignment:"
   ]
  },
  {
   "cell_type": "markdown",
   "id": "dbc4d2a3-bf17-4c3a-b428-e93579e4d988",
   "metadata": {},
   "source": [
    "### <span style=\"color:red\"> Complete the following:\n",
    "* #### <span style=\"color:red\"> Create a NEW notebook and rename it: CO2_TimeSeries_Analysis\n",
    "* #### <span style=\"color:red\"> Read in all three CO2 datasets: NOAA, WDCGG, and Mauna Loa\n",
    "* #### <span style=\"color:red\"> Create three seperate plots of time series of CO2 concentration in ppm.\n",
    "* #### <span style=\"color:red\"> Create a single plot with _all_ three datasets on the plot, make each time series a seperate color and with a legend on the plot (hint .... you can use the fig, ax = plt.subplots(figsize=(5,5)) method for this ... one plot will plot on top of the other).\n",
    "* #### <span style=\"color:red\"> In the cell below your image ... create a Figure caption using Markdown.\n",
    "* #### <span style=\"color:red\"> The first cell of your notebook should contain descriptive Markdown that describes the purpose of the notebook and the author including contact information.    \n",
    "* #### <span style=\"color:red\"> Push this notebook and your new notebook to your GitHub repository."
   ]
  },
  {
   "cell_type": "markdown",
   "id": "9b765b9a-f0c6-408f-9e9f-f6298f9ecfd2",
   "metadata": {},
   "source": [
    "### Shutting down your notebook (__don't do this yet!!__ These are just instructions for when class is over).\n",
    "### Before shutting down, save your notebook with the disc icon in the Notebook toolbar. Go to the the File menu and click Shut Down to close the browser table and Jupyter Lab itself."
   ]
  }
 ],
 "metadata": {
  "kernelspec": {
   "display_name": "Python 3 (ipykernel)",
   "language": "python",
   "name": "python3"
  },
  "language_info": {
   "codemirror_mode": {
    "name": "ipython",
    "version": 3
   },
   "file_extension": ".py",
   "mimetype": "text/x-python",
   "name": "python",
   "nbconvert_exporter": "python",
   "pygments_lexer": "ipython3",
   "version": "3.9.16"
  }
 },
 "nbformat": 4,
 "nbformat_minor": 5
}
