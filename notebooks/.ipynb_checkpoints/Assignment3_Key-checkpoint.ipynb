{
 "cells": [
  {
   "cell_type": "markdown",
   "id": "c53a1b81-4692-4975-8093-e45b8ca831cc",
   "metadata": {},
   "source": [
    "### Assignment 3 Key\n",
    "__Author__: Dr. Beadling. For any questions regarding the contents of this notebook please contact rebecca.beadling@temple.edu."
   ]
  },
  {
   "cell_type": "markdown",
   "id": "3aadc0ff-5247-44ed-9bb3-ae066ab4e71d",
   "metadata": {},
   "source": [
    "### 1. Create a list with the names of every planet in the solar system (in order by distance from the sun)\n",
    "\n",
    "#### _skill tested: List creation_"
   ]
  },
  {
   "cell_type": "code",
   "execution_count": 3,
   "id": "4e7e42b8-99da-4c9d-ba72-0113a2239042",
   "metadata": {
    "tags": []
   },
   "outputs": [],
   "source": [
    "planets = ['Mercury',\n",
    "           'Venus',\n",
    "           'Earth', \n",
    "           'Mars', \n",
    "           'Jupiter', \n",
    "           'Saturn', \n",
    "           'Uranus', \n",
    "           'Neptune']"
   ]
  },
  {
   "cell_type": "code",
   "execution_count": 4,
   "id": "8ac2c20b-936f-4c13-b739-b8ad7e44ca77",
   "metadata": {
    "tags": []
   },
   "outputs": [
    {
     "data": {
      "text/plain": [
       "['Mercury', 'Venus', 'Earth', 'Mars', 'Jupiter', 'Saturn', 'Uranus', 'Neptune']"
      ]
     },
     "execution_count": 4,
     "metadata": {},
     "output_type": "execute_result"
    }
   ],
   "source": [
    "planets"
   ]
  },
  {
   "cell_type": "markdown",
   "id": "aa435918-3124-44a6-a85c-220c9daabc82",
   "metadata": {},
   "source": [
    "### 2. Have Python tell you how many planets there are by examining your list.\n",
    "\n",
    "#### _skill tested: Use of len() method_"
   ]
  },
  {
   "cell_type": "code",
   "execution_count": 5,
   "id": "e9a65527-9577-40bc-a5fc-c147e8fe4a04",
   "metadata": {
    "tags": []
   },
   "outputs": [
    {
     "data": {
      "text/plain": [
       "8"
      ]
     },
     "execution_count": 5,
     "metadata": {},
     "output_type": "execute_result"
    }
   ],
   "source": [
    "len(planets)"
   ]
  },
  {
   "cell_type": "code",
   "execution_count": 16,
   "id": "4f17eb33-f717-4cd5-8a42-b9dfdccbcdb1",
   "metadata": {
    "tags": []
   },
   "outputs": [
    {
     "name": "stdout",
     "output_type": "stream",
     "text": [
      "There are 8 planets in our solar system!\n"
     ]
    }
   ],
   "source": [
    "print('There are '+ str(len(planets)) +' planets in our solar system!')"
   ]
  },
  {
   "cell_type": "markdown",
   "id": "a8190976-e1fd-4eea-8ec2-778eff2c4d5a",
   "metadata": {},
   "source": [
    "### 3. Use slicing to display the first four planets (the rocky planets). In the Markdown cell for this question, embed images of the four planets.\n",
    "\n",
    "#### _skill tested: indexing and slicing"
   ]
  },
  {
   "cell_type": "code",
   "execution_count": 17,
   "id": "f86df460-c8d2-41b7-ab1e-963d0b3e78b6",
   "metadata": {
    "tags": []
   },
   "outputs": [
    {
     "data": {
      "text/plain": [
       "['Mercury', 'Venus', 'Earth', 'Mars']"
      ]
     },
     "execution_count": 17,
     "metadata": {},
     "output_type": "execute_result"
    }
   ],
   "source": [
    "planets[0:4]"
   ]
  },
  {
   "cell_type": "code",
   "execution_count": 18,
   "id": "ff1ed4e4-8205-4b27-b682-8f62997a724c",
   "metadata": {
    "tags": []
   },
   "outputs": [
    {
     "data": {
      "text/plain": [
       "['Mercury', 'Venus', 'Earth', 'Mars']"
      ]
     },
     "execution_count": 18,
     "metadata": {},
     "output_type": "execute_result"
    }
   ],
   "source": [
    "planets[:4]"
   ]
  },
  {
   "cell_type": "markdown",
   "id": "e7c9502e-1569-48ad-a043-f979a9b5d7bd",
   "metadata": {
    "tags": []
   },
   "source": [
    "![](https://upload.wikimedia.org/wikipedia/commons/4/4a/Mercury_in_true_color.jpg)"
   ]
  },
  {
   "cell_type": "markdown",
   "id": "5a9ae98f-8275-4448-b55c-5a472a7ad2e6",
   "metadata": {},
   "source": [
    "### 4. Iterate through your planets and print the planet name only if it has a “s” at the end.\n",
    "\n",
    "### _skill tested: negative indexing, if statements, and for loops_"
   ]
  },
  {
   "cell_type": "code",
   "execution_count": 25,
   "id": "a5c3f1fb-45f4-4777-be86-daf1045b7893",
   "metadata": {
    "tags": []
   },
   "outputs": [
    {
     "name": "stdout",
     "output_type": "stream",
     "text": [
      "Venus\n",
      "Mars\n",
      "Uranus\n"
     ]
    }
   ],
   "source": [
    "for planet in planets:\n",
    "    if planet[-1]=='s':\n",
    "        print(planet)"
   ]
  },
  {
   "cell_type": "code",
   "execution_count": null,
   "id": "b1f99bb5-afb9-4f45-a5e1-9b3f5b19e729",
   "metadata": {},
   "outputs": [],
   "source": [
    "### Or as some of you discovered,\n",
    "### you could have used the endswith python method, \n",
    "### which we did not cover in class."
   ]
  },
  {
   "cell_type": "code",
   "execution_count": 26,
   "id": "25a4aec1-406b-49d4-aee8-aac29b58fe70",
   "metadata": {
    "tags": []
   },
   "outputs": [
    {
     "name": "stdout",
     "output_type": "stream",
     "text": [
      "Venus\n",
      "Mars\n",
      "Uranus\n"
     ]
    }
   ],
   "source": [
    "for planet in planets:\n",
    "    if planet.endswith('s'):\n",
    "        print(planet)"
   ]
  },
  {
   "cell_type": "markdown",
   "id": "937b6343-e7e1-4dc4-9556-7899a4aedb8d",
   "metadata": {},
   "source": [
    "### 5. Create a dictionary that maps each planet name to its mass. You can use values from this NASA fact sheet (https://nssdc.gsfc.nasa.gov/planetary/factsheet/). You can use whatever units you want but be consistent.\n",
    "\n",
    "### _skill tested: dictionary data types_"
   ]
  },
  {
   "cell_type": "code",
   "execution_count": 57,
   "id": "76585ccf-7005-469e-ab10-f56d7e8356f8",
   "metadata": {
    "tags": []
   },
   "outputs": [],
   "source": [
    "planet_mass_kg = {\n",
    "    \"Mercury\": .330e24,\n",
    "    \"Venus\": 4.87e24,\n",
    "    \"Earth\": 5.97e24,\n",
    "    \"Mars\": .642e24,\n",
    "    \"Jupyter\": 1898e24, \n",
    "    \"Saturn\": 568e24,\n",
    "    \"Uranus\": 86.8e24,\n",
    "    \"Neptune\": 102e24\n",
    "}"
   ]
  },
  {
   "cell_type": "markdown",
   "id": "e8992518-d8e4-4e35-954b-c7da9137e2ab",
   "metadata": {},
   "source": [
    "### 6. Use your dictionary to look up Earth’s mass.\n",
    "### _skill tested: accessing key pairs in dicts_"
   ]
  },
  {
   "cell_type": "code",
   "execution_count": 29,
   "id": "84658d65-2f55-4c44-b19a-816a00b1930e",
   "metadata": {
    "tags": []
   },
   "outputs": [
    {
     "data": {
      "text/plain": [
       "5.97e+24"
      ]
     },
     "execution_count": 29,
     "metadata": {},
     "output_type": "execute_result"
    }
   ],
   "source": [
    "planet_mass_kg[\"Earth\"]"
   ]
  },
  {
   "cell_type": "markdown",
   "id": "f6954103-f024-4a2d-aeb9-8555e8622861",
   "metadata": {},
   "source": [
    "### 7. Loop through the data and create a list of planets whose mass is greater than 100 x 10^24 kg.\n",
    "\n",
    "### _skill tested: loops_"
   ]
  },
  {
   "cell_type": "code",
   "execution_count": 40,
   "id": "af586b87-cb0f-4f01-97f0-06ad6c404ef8",
   "metadata": {
    "tags": []
   },
   "outputs": [
    {
     "name": "stdout",
     "output_type": "stream",
     "text": [
      "Jupyter\n",
      "Saturn\n",
      "Neptune\n"
     ]
    }
   ],
   "source": [
    "for planet in planet_mass_kg:\n",
    "    if planet_mass_kg[planet] > 100e24:\n",
    "        print(planet)"
   ]
  },
  {
   "cell_type": "code",
   "execution_count": 41,
   "id": "537cbd3b-9a38-404e-a853-d95990553d73",
   "metadata": {
    "tags": []
   },
   "outputs": [
    {
     "name": "stdout",
     "output_type": "stream",
     "text": [
      "1.898e+27\n",
      "5.68e+26\n",
      "1.02e+26\n"
     ]
    }
   ],
   "source": [
    "for planet in planet_mass_kg:\n",
    "    if planet_mass_kg[planet] > 100e24:\n",
    "        print(planet_mass_kg[planet])"
   ]
  },
  {
   "cell_type": "code",
   "execution_count": 42,
   "id": "bb2c985b-b5ff-4ff7-bbe3-1aefd4246d83",
   "metadata": {
    "tags": []
   },
   "outputs": [],
   "source": [
    "large_planets = []              ## Creates an empty list\n",
    "for planet in planet_mass_kg:\n",
    "    if planet_mass_kg[planet] > 100e24:\n",
    "        large_planets.append(planet) ## add to our empty list"
   ]
  },
  {
   "cell_type": "markdown",
   "id": "3cce8207-b5af-4eb2-8092-e07748c3417d",
   "metadata": {
    "tags": []
   },
   "source": [
    "### 8. Display your result"
   ]
  },
  {
   "cell_type": "code",
   "execution_count": 45,
   "id": "3bf9d3b3-a186-493b-b827-d8d08e9b5718",
   "metadata": {
    "tags": []
   },
   "outputs": [
    {
     "data": {
      "text/plain": [
       "['Jupyter', 'Saturn', 'Neptune']"
      ]
     },
     "execution_count": 45,
     "metadata": {},
     "output_type": "execute_result"
    }
   ],
   "source": [
    "large_planets"
   ]
  },
  {
   "cell_type": "markdown",
   "id": "96755783-75b0-45ec-af5d-1f97c1691d00",
   "metadata": {},
   "source": [
    "### 9. Now add Pluto to your dictionary."
   ]
  },
  {
   "cell_type": "code",
   "execution_count": 48,
   "id": "d8a0f7b9-3684-4906-9da7-931f211be0fa",
   "metadata": {
    "tags": []
   },
   "outputs": [],
   "source": [
    "planet_mass_kg[\"Pluto\"] = 0.0130e24"
   ]
  },
  {
   "cell_type": "code",
   "execution_count": 49,
   "id": "293d28eb-fe33-47b3-98bd-97de0673970f",
   "metadata": {
    "tags": []
   },
   "outputs": [
    {
     "data": {
      "text/plain": [
       "{'Mercury': 3.3e+23,\n",
       " 'Venus': 4.87e+24,\n",
       " 'Earth': 5.97e+24,\n",
       " 'Mars': 6.42e+23,\n",
       " 'Jupyter': 1.898e+27,\n",
       " 'Saturn': 5.68e+26,\n",
       " 'Uranus': 8.68e+25,\n",
       " 'Neptune': 1.02e+26,\n",
       " 'Pluto': 1.3e+22}"
      ]
     },
     "execution_count": 49,
     "metadata": {},
     "output_type": "execute_result"
    }
   ],
   "source": [
    "planet_mass_kg"
   ]
  },
  {
   "cell_type": "markdown",
   "id": "e51b9379-3d30-4ed1-95f9-2d25668e965e",
   "metadata": {},
   "source": [
    "### 14. Write a dictionary that maps your course names to your course time. Example: ‘EES 2096’ : ‘T R 9:30 – 10:50 AM’."
   ]
  },
  {
   "cell_type": "code",
   "execution_count": 58,
   "id": "067aad10-a005-4543-81a7-92ba26f7a1d9",
   "metadata": {
    "tags": []
   },
   "outputs": [],
   "source": [
    "My_Courses = {'EES 3506':'T R 9:30 - 10:50 AM',\n",
    "             'Office Hours': 'W 1:00 - 3:00 PM'}"
   ]
  },
  {
   "cell_type": "code",
   "execution_count": 59,
   "id": "5ad47de1-38fc-4e04-8245-9d8ecfa25a09",
   "metadata": {
    "tags": []
   },
   "outputs": [
    {
     "data": {
      "text/plain": [
       "{'EES 3506': 'T R 9:30 - 10:50 AM', 'Office Hours': 'W 1:00 - 3:00 PM'}"
      ]
     },
     "execution_count": 59,
     "metadata": {},
     "output_type": "execute_result"
    }
   ],
   "source": [
    "My_Courses"
   ]
  },
  {
   "cell_type": "markdown",
   "id": "873e6922-38dd-4c7c-99cd-65055556769a",
   "metadata": {},
   "source": [
    "### 11. Write a function to convert from miles to kilometers (km) and km to miles, with the user specifying either miles or km as inputs.\n",
    "\n",
    "### 12. Check that the results are sensible by trying several examples."
   ]
  },
  {
   "cell_type": "code",
   "execution_count": 83,
   "id": "6df8af57-6271-4d5f-a5cc-a1102b337f28",
   "metadata": {
    "tags": []
   },
   "outputs": [],
   "source": [
    "## By default, this function assumes a desired unit of miles\n",
    "def convert_distance(distance, desired_units='miles'):\n",
    "    if desired_units == 'miles':\n",
    "        dist_converted = distance*0.621371\n",
    "    if desired_units == 'km':\n",
    "        dist_converted = distance*1.60934\n",
    "    return dist_converted"
   ]
  },
  {
   "cell_type": "code",
   "execution_count": 84,
   "id": "c6b9d664-90fe-4f7b-9053-76c04fee0220",
   "metadata": {
    "tags": []
   },
   "outputs": [
    {
     "data": {
      "text/plain": [
       "3.106855"
      ]
     },
     "execution_count": 84,
     "metadata": {},
     "output_type": "execute_result"
    }
   ],
   "source": [
    "convert_distance(5,desired_units='miles')"
   ]
  },
  {
   "cell_type": "code",
   "execution_count": 85,
   "id": "3fa0bbde-50b7-4f36-9576-6f83f1a41f83",
   "metadata": {
    "tags": []
   },
   "outputs": [
    {
     "data": {
      "text/plain": [
       "16.0934"
      ]
     },
     "execution_count": 85,
     "metadata": {},
     "output_type": "execute_result"
    }
   ],
   "source": [
    "convert_distance(10,desired_units='km')"
   ]
  },
  {
   "cell_type": "code",
   "execution_count": 87,
   "id": "cc4dd0ac-a5c6-43d9-a6ce-23e47de5d2a3",
   "metadata": {
    "tags": []
   },
   "outputs": [
    {
     "data": {
      "text/plain": [
       "3.106855"
      ]
     },
     "execution_count": 87,
     "metadata": {},
     "output_type": "execute_result"
    }
   ],
   "source": [
    "convert_distance(5)"
   ]
  },
  {
   "cell_type": "code",
   "execution_count": 88,
   "id": "4648f4ff-1f7f-4e8c-9c84-1d15a1046f4e",
   "metadata": {
    "tags": []
   },
   "outputs": [],
   "source": [
    "## No default units assumed\n",
    "def convert_distance(distance, desired_units):\n",
    "    if desired_units == 'miles':\n",
    "        dist_converted = distance*0.621371\n",
    "    if desired_units == 'km':\n",
    "        dist_converted = distance*1.60934\n",
    "    return dist_converted"
   ]
  },
  {
   "cell_type": "code",
   "execution_count": 89,
   "id": "58710369-eb65-480a-ba66-a1887c78ec33",
   "metadata": {
    "tags": []
   },
   "outputs": [
    {
     "data": {
      "text/plain": [
       "3.106855"
      ]
     },
     "execution_count": 89,
     "metadata": {},
     "output_type": "execute_result"
    }
   ],
   "source": [
    "convert_distance(5,desired_units='miles')"
   ]
  },
  {
   "cell_type": "code",
   "execution_count": 90,
   "id": "720c1cc0-ade1-46e8-b048-5b2ecf83f218",
   "metadata": {
    "tags": []
   },
   "outputs": [
    {
     "data": {
      "text/plain": [
       "16.0934"
      ]
     },
     "execution_count": 90,
     "metadata": {},
     "output_type": "execute_result"
    }
   ],
   "source": [
    "convert_distance(10,desired_units='km')"
   ]
  },
  {
   "cell_type": "markdown",
   "id": "3388da7d-ffd3-4e44-bf2c-03bf54d0d957",
   "metadata": {
    "tags": []
   },
   "source": [
    "### 13. Use your function to determine the length of a 5K race in miles."
   ]
  },
  {
   "cell_type": "code",
   "execution_count": 91,
   "id": "68bdacfd-57bb-41fc-a5b2-f437f5cc64c8",
   "metadata": {
    "tags": []
   },
   "outputs": [
    {
     "data": {
      "text/plain": [
       "3.106855"
      ]
     },
     "execution_count": 91,
     "metadata": {},
     "output_type": "execute_result"
    }
   ],
   "source": [
    "convert_distance(5,desired_units='miles')"
   ]
  },
  {
   "cell_type": "markdown",
   "id": "29960b18-1e3d-4dcd-a8c5-f0f8706772a5",
   "metadata": {},
   "source": [
    "### 14. Write a function that computes and returns the surface area of a sphere."
   ]
  },
  {
   "cell_type": "markdown",
   "id": "9447e105-5849-4dff-90bd-f149d7353c56",
   "metadata": {
    "tags": []
   },
   "source": [
    "![](https://i.ytimg.com/vi/U1tLqWORd4k/maxresdefault.jpg)"
   ]
  },
  {
   "cell_type": "code",
   "execution_count": 106,
   "id": "b01112af-958f-4ad9-9a93-064032c995a3",
   "metadata": {
    "tags": []
   },
   "outputs": [],
   "source": [
    "def surface_area_sphere(radius):\n",
    "    area = 4*3.14*(radius**2)\n",
    "    return area"
   ]
  },
  {
   "cell_type": "markdown",
   "id": "c7549399-63c8-4070-bb12-3cfe7557dfb8",
   "metadata": {},
   "source": [
    "### 15. Use your function to compute the surface air of the Sun and of the Earth."
   ]
  },
  {
   "cell_type": "code",
   "execution_count": 123,
   "id": "d0cce19b-c3fc-4bc3-a1be-d96626019ecf",
   "metadata": {
    "tags": []
   },
   "outputs": [],
   "source": [
    "### radius of earth = 6378.1370 km\n",
    "### radius of sun = 696340 km\n",
    "\n",
    "earth_area = surface_area_sphere(6378.1370)\n",
    "sun_area = surface_area_sphere(696340)"
   ]
  },
  {
   "cell_type": "code",
   "execution_count": 124,
   "id": "0a186171-b803-4303-b52a-2f4586b02425",
   "metadata": {
    "tags": []
   },
   "outputs": [
    {
     "data": {
      "text/plain": [
       "511207893.3958109"
      ]
     },
     "execution_count": 124,
     "metadata": {},
     "output_type": "execute_result"
    }
   ],
   "source": [
    "earth_area"
   ]
  },
  {
   "cell_type": "code",
   "execution_count": 125,
   "id": "638f05f3-ea28-4bf1-86fb-345ac73eb13b",
   "metadata": {
    "tags": []
   },
   "outputs": [
    {
     "data": {
      "text/plain": [
       "6093299852082.22"
      ]
     },
     "execution_count": 125,
     "metadata": {},
     "output_type": "execute_result"
    }
   ],
   "source": [
    "sun_area"
   ]
  },
  {
   "cell_type": "code",
   "execution_count": 126,
   "id": "2d578e07-2868-4253-9420-4cb3a552ad3a",
   "metadata": {
    "tags": []
   },
   "outputs": [],
   "source": [
    "## a more precise way to do this is \n",
    "## to use numpy's .pi method:\n",
    "import numpy as np\n",
    "\n",
    "def surface_area_sphere(radius):\n",
    "    area = 4*np.pi*(radius**2)\n",
    "    return area"
   ]
  },
  {
   "cell_type": "code",
   "execution_count": 127,
   "id": "ebe2c8cf-6cd4-4d62-97fc-f8d5e444a6bd",
   "metadata": {
    "tags": []
   },
   "outputs": [],
   "source": [
    "earth_area = surface_area_sphere(6378.1370)\n",
    "sun_area = surface_area_sphere(696340)"
   ]
  },
  {
   "cell_type": "code",
   "execution_count": 128,
   "id": "d88bcf04-5260-43c0-be09-7c481002fa87",
   "metadata": {
    "tags": []
   },
   "outputs": [
    {
     "data": {
      "text/plain": [
       "511207893.3958109"
      ]
     },
     "execution_count": 128,
     "metadata": {},
     "output_type": "execute_result"
    }
   ],
   "source": [
    "earth_area"
   ]
  },
  {
   "cell_type": "markdown",
   "id": "11ad2773-7cb0-4471-9d3b-1053d5b4a4b2",
   "metadata": {},
   "source": [
    "### 16. Write a function that takes two arguments (feet and inches) and returns height in meters."
   ]
  },
  {
   "cell_type": "code",
   "execution_count": 129,
   "id": "e6f6c03a-0a7d-4e23-951a-8ac4cd349665",
   "metadata": {
    "tags": []
   },
   "outputs": [],
   "source": [
    "def height_in_meters(feet,inches):\n",
    "    total_height_inches = (feet * 12) + inches\n",
    "    height_in_meters = total_height_inches*0.0254 \n",
    "    ## 1 inch == 0.0254 meters\n",
    "    \n",
    "    return height_in_meters"
   ]
  },
  {
   "cell_type": "code",
   "execution_count": 130,
   "id": "708d3547-06f3-4252-8caf-e8193dfa5eb3",
   "metadata": {
    "tags": []
   },
   "outputs": [],
   "source": [
    "my_height_meters = height_in_meters(4,11)"
   ]
  },
  {
   "cell_type": "code",
   "execution_count": 131,
   "id": "c6144867-aa14-42be-8f84-2cd5b6b596b3",
   "metadata": {
    "tags": []
   },
   "outputs": [
    {
     "data": {
      "text/plain": [
       "1.4986"
      ]
     },
     "execution_count": 131,
     "metadata": {},
     "output_type": "execute_result"
    }
   ],
   "source": [
    "my_height_meters"
   ]
  },
  {
   "cell_type": "markdown",
   "id": "f5cea972-237e-459d-b81d-9b5b7d1d2c86",
   "metadata": {},
   "source": [
    "### 17. Write a function that takes that takes one argument (height in meters) and returns two arguments (feet and inches)."
   ]
  },
  {
   "cell_type": "code",
   "execution_count": 146,
   "id": "9f9428d1-8b29-448b-bcbf-c736882ec986",
   "metadata": {
    "tags": []
   },
   "outputs": [],
   "source": [
    "def height_in_feet_inches(meters):\n",
    "    inches = meters / 0.0254\n",
    "    feet = (inches / 12)\n",
    "    return(feet, inches)"
   ]
  },
  {
   "cell_type": "code",
   "execution_count": 147,
   "id": "1e5a21ad-17d0-4752-b726-08e994efa7df",
   "metadata": {
    "tags": []
   },
   "outputs": [],
   "source": [
    "my_height = height_in_feet_inches(1.4986)"
   ]
  },
  {
   "cell_type": "code",
   "execution_count": 148,
   "id": "9b031ee3-fe7c-4006-bdb6-ba5c6116483e",
   "metadata": {
    "tags": []
   },
   "outputs": [
    {
     "data": {
      "text/plain": [
       "(4.916666666666667, 59.0)"
      ]
     },
     "execution_count": 148,
     "metadata": {},
     "output_type": "execute_result"
    }
   ],
   "source": [
    "my_height"
   ]
  },
  {
   "cell_type": "markdown",
   "id": "6d70ceaa-ce65-4555-b29f-b4b3319dbff7",
   "metadata": {
    "tags": []
   },
   "source": [
    "### Or"
   ]
  },
  {
   "cell_type": "code",
   "execution_count": 153,
   "id": "1b035425-5789-4a77-9e6f-7937c1926aca",
   "metadata": {
    "tags": []
   },
   "outputs": [],
   "source": [
    "## Just print directly instead of storing as variables\n",
    "def height_in_feet_inches(meters):\n",
    "    inches = meters / 0.0254\n",
    "    feet = (inches / 12)\n",
    "    print(feet)\n",
    "    print(inches)"
   ]
  },
  {
   "cell_type": "code",
   "execution_count": 151,
   "id": "a22e1e12-1920-4226-ad14-9c1a6eca6cdf",
   "metadata": {
    "tags": []
   },
   "outputs": [
    {
     "name": "stdout",
     "output_type": "stream",
     "text": [
      "4.916666666666667\n",
      "59.0\n"
     ]
    }
   ],
   "source": [
    "my_height = height_in_feet_inches(1.4986)"
   ]
  },
  {
   "cell_type": "markdown",
   "id": "de78a435-dad9-499f-93f2-68781f268ff7",
   "metadata": {},
   "source": [
    "### Or"
   ]
  },
  {
   "cell_type": "code",
   "execution_count": 178,
   "id": "e65fdf71-274e-4b15-85c1-ccf121b84f14",
   "metadata": {
    "tags": []
   },
   "outputs": [],
   "source": [
    "def height_in_feet_inches(meters):\n",
    "    inches = meters / 0.0254\n",
    "    feet = (inches / 12)\n",
    "    print('my height is '+str(feet)+' ft'+' and '+str(inches) + \" inches\")"
   ]
  },
  {
   "cell_type": "code",
   "execution_count": 179,
   "id": "8fb3173f-8ba9-42d8-b14a-7a29c9a1cff8",
   "metadata": {
    "tags": []
   },
   "outputs": [
    {
     "name": "stdout",
     "output_type": "stream",
     "text": [
      "my height is 4.916666666666667 ft and 59.0 inches\n"
     ]
    }
   ],
   "source": [
    "my_height = height_in_feet_inches(1.4986)"
   ]
  },
  {
   "cell_type": "markdown",
   "id": "dbd0efdc-f4c7-4b5d-bf80-3f73c4193368",
   "metadata": {},
   "source": [
    "### Or"
   ]
  },
  {
   "cell_type": "code",
   "execution_count": 184,
   "id": "f4dad869-00e2-4804-a20d-226c104a528c",
   "metadata": {
    "tags": []
   },
   "outputs": [],
   "source": [
    "def height_in_feet_inches(meters):\n",
    "    inches = meters / 0.0254\n",
    "    feet_whole = int(inches // 12)\n",
    "    inches_remainder = int(inches % 12)\n",
    "    print('my height is '+str(feet_whole)+' ft'+' and '+str(inches_remainder) + \" inches\")"
   ]
  },
  {
   "cell_type": "code",
   "execution_count": 185,
   "id": "f2fd29ad-515c-4c0e-8f6f-7fddb7a33ec7",
   "metadata": {
    "tags": []
   },
   "outputs": [
    {
     "name": "stdout",
     "output_type": "stream",
     "text": [
      "my height is 4 ft and 11 inches\n"
     ]
    }
   ],
   "source": [
    "my_height = height_in_feet_inches(1.4986)"
   ]
  }
 ],
 "metadata": {
  "kernelspec": {
   "display_name": "Python 3 (ipykernel)",
   "language": "python",
   "name": "python3"
  },
  "language_info": {
   "codemirror_mode": {
    "name": "ipython",
    "version": 3
   },
   "file_extension": ".py",
   "mimetype": "text/x-python",
   "name": "python",
   "nbconvert_exporter": "python",
   "pygments_lexer": "ipython3",
   "version": "3.9.16"
  }
 },
 "nbformat": 4,
 "nbformat_minor": 5
}
