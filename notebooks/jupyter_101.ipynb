{
 "cells": [
  {
   "cell_type": "markdown",
   "id": "c6519ca6-d9e1-4b41-9bb5-66583e4a016f",
   "metadata": {},
   "source": [
    "## Fundamentals of working with Jupyter Notebooks. \n",
    "### The contents of this notebook were adapted from one of the labs from the [__Elements of Data Science__](https://sites.temple.edu/eds8/) course taught at Temple University. The purpose of this notebook is to provide users with a brief overview of what a Jupyter Notebook is and how to navigate and use one. If you are an experienced user, please feel free to skip. If you have limited experience or simply want a refresher, read on!\n",
    "\n",
    "### You should be __entering__ this lesson with ...\n",
    "* Having completely read through [__Introduction to Jupyter__](https://hackmd.io/@0u33W-OOTm2AI2VgNuXi3Q/Hyhg7nmsC/).\n",
    "\n",
    "### . For any questions regarding the contents of this notebook please contact rebecca.beadling@temple.edu."
   ]
  },
  {
   "cell_type": "markdown",
   "id": "1d5695bf-d3ac-4d3f-b668-e3ac0b6c9790",
   "metadata": {},
   "source": [
    "## 1. Jupyter notebooks\r\n",
    "This webpage is called a Jupyter notebook. A notebook is a place to write programs and view their results.\r\n",
    "\r\n",
    "### 1.1. Text cells\r\n",
    "In a notebook, each rectangle containing text or code is called a *cell*.\r\n",
    "\r\n",
    "Text cells (like this one) can be edited by double-clicking on them. They're written in a simple format called [Markdown](http://daringfireball.net/projects/markdown/syntax) to add formatting and section headings.  You don't need to learn Markdown, but you might want to.\r\n",
    "\r\n",
    "After you edit a text cell, select the \"run cell\" button at the top that looks like ▶| to confirm any changes.  You can also use a keyboard shortcut to run a cell by holding down the Ctrl key and pressing Enter.g Enter.g Enter."
   ]
  },
  {
   "cell_type": "markdown",
   "id": "ec638146-d43c-498d-b18a-12e46db0f044",
   "metadata": {},
   "source": [
    "<font color=blue> **Question 1.** </font><br />\n",
    "This paragraph is in its own text cell.  Try editing it so that **this** sentence is the last sentence in the paragraph, and then select the \"run cell\" ▶| button on the top."
   ]
  },
  {
   "cell_type": "markdown",
   "id": "10d1db2b-a2fe-470e-90fc-a21edeac53d7",
   "metadata": {},
   "source": [
    "Now we will now run our first code cell below. Code cells are highlighted in grey and the computer interprets the computer code and carries out the instructions as long as it can interpret the code. Examine and run the below code ( \"run cell\" button at the top that looks like ▶| to confirm any changes. You can also use a keyboard shortcut to run a cell by holding down the `Ctrl` key and pressing `Enter`)"
   ]
  },
  {
   "cell_type": "code",
   "execution_count": null,
   "id": "217fe933-1da4-46ba-a48b-4fbb7979c941",
   "metadata": {},
   "outputs": [],
   "source": [
    "print(\"Hello, World!\")"
   ]
  },
  {
   "cell_type": "markdown",
   "id": "1e5079ff-5c9a-4b8a-8cc9-e7619307c306",
   "metadata": {},
   "source": [
    "Now create your own code in the below empty cell which prints Hello to yourself by modelling your code after the above example."
   ]
  },
  {
   "cell_type": "code",
   "execution_count": null,
   "id": "24edcfe5-6d2c-48d4-9496-31af2a8218e2",
   "metadata": {},
   "outputs": [],
   "source": []
  },
  {
   "cell_type": "markdown",
   "id": "0d52c051-c916-472d-be34-efa150f39df3",
   "metadata": {},
   "source": [
    "##### String variables\n",
    "A variable has a descriptive label and can be assigned a value by using the = assignment operator like below"
   ]
  },
  {
   "cell_type": "code",
   "execution_count": null,
   "id": "64e3f405-22ba-441d-a372-ec58dc8d51da",
   "metadata": {},
   "outputs": [],
   "source": [
    "founder = \"Russell Conwell\""
   ]
  },
  {
   "cell_type": "markdown",
   "id": "a475871c-de23-47e9-9398-1c11533ca49b",
   "metadata": {},
   "source": [
    "The variable can now be used throughout the rest of the code after the assignment. This is a key tool and often used advantage of computer code rather than retyping values each time they are used. The variable **founder** points to a string of characters: \"Russell Conwell\" hence it is called a string variable. As we will see later, variables can refer to all different types of data."
   ]
  },
  {
   "cell_type": "markdown",
   "id": "ee6b9201-0623-4e26-b44a-6525ffb9d240",
   "metadata": {},
   "source": [
    "We can \"add\" strings together. Addition of strings just sticks one onto the end of the other, which is known as \"concatenation.\""
   ]
  },
  {
   "cell_type": "code",
   "execution_count": null,
   "id": "c266396f-f593-497f-b0c2-529112db5a14",
   "metadata": {},
   "outputs": [],
   "source": [
    "founder + founder"
   ]
  },
  {
   "cell_type": "markdown",
   "id": "2566c457-e0b0-4114-a3b6-dad420fba808",
   "metadata": {},
   "source": [
    "The print() statement can accept any number of argments separated by commas, including variables. For example, the print statement below has three arguments: a string, a string variable and another string."
   ]
  },
  {
   "cell_type": "code",
   "execution_count": null,
   "id": "cea2d90a-c55c-4d8f-bd13-e8ee17f8fac1",
   "metadata": {},
   "outputs": [],
   "source": [
    "print(\"You can see\", founder, \"in the Founder's Garden.\")"
   ]
  },
  {
   "cell_type": "markdown",
   "id": "ab2938c0-7892-4e66-bef1-21472f3a1d02",
   "metadata": {},
   "source": [
    "Notice how the variable `founder` is included in the print statement below and that concatenation is used to add the period at the end."
   ]
  },
  {
   "cell_type": "code",
   "execution_count": null,
   "id": "6e8d8bcf-4e97-4015-a5ff-ea4991fafc9d",
   "metadata": {},
   "outputs": [],
   "source": [
    "print(\"The founder of Temple University is\", founder + \".\")\n",
    "print(founder,\" was born in 1843 and in 1862 was commissioned as a captain in the Union Army despite the initial objections of his father.\")"
   ]
  },
  {
   "cell_type": "markdown",
   "id": "b5d54d25-c671-4a01-b498-61bfb02c3f9a",
   "metadata": {},
   "source": [
    "The fundamental building block of Python code is an expression. Cells can contain multiple lines with multiple expressions. When you run a cell, the lines of code are executed in the order in which they appear. Every `print` expression prints a line. Run the next cell and notice the order of the output."
   ]
  },
  {
   "cell_type": "code",
   "execution_count": null,
   "id": "880e1e64-f182-4917-82a3-302b8a95b539",
   "metadata": {},
   "outputs": [],
   "source": [
    "print(\"First this line,\")\n",
    "print(\"and then this one.\")"
   ]
  },
  {
   "cell_type": "markdown",
   "id": "388ac378-e030-4127-875b-b77b78e8ead7",
   "metadata": {},
   "source": [
    "<font color=blue> **Question 2.** </font><br />\n",
    "Change the cell above so that it prints out:\n",
    "\n",
    "    First this line,\n",
    "    then another line,\n",
    "    and then this one."
   ]
  },
  {
   "cell_type": "markdown",
   "id": "a2ac541e-fe35-4ebb-a30d-f8f11c2fe8ca",
   "metadata": {},
   "source": [
    "### 1.3. Writing Jupyter notebooks\n",
    "You can use Jupyter notebooks for your own projects or documents. They are among the world's most popular programming environments for data science. When you make your own notebook, you'll need to create your own cells for text and code.\n",
    "\n",
    "To add a cell, select the + button in the menu bar.  A new cell starts out as text.  You can change it to a code cell by selecting it so that it's highlighted, then selecting the drop-down box next to the restart (⟳) button in the menu bar, and choosing Code instead of Markdown.\n",
    "\n",
    "<font color=blue> **Question 3.** </font><br />\n",
    "Add a code cell below this one.  Write code in it that prints out:\n",
    "   \n",
    "    A whole new cell!\n",
    "    Some new fantastic code to view\n",
    "    From charts to graphs, to vibrant prose,\n",
    "    A notebook grows,\n",
    "    Where creativity flows.\n",
    "\n",
    "Run your cell to verify that it works. Debugging the poetry is optional &#128512;."
   ]
  },
  {
   "cell_type": "markdown",
   "id": "06677118-ef05-44c9-8034-5f743a5a7461",
   "metadata": {},
   "source": [
    "### 1.4. Errors\r\n",
    "Python is a language, and like natural human languages, it has rules.  It differs from natural language in two important ways:\r\n",
    "1. The rules are *simple*.  You can learn most of them in a few weeks and gain reasonable proficiency with the language in a semester.\r\n",
    "2. The rules are *rigid*.  If you're proficient in a natural language, you can understand a non-proficient speaker, glossing over small mistakes.  A computer running Python code is not smart enough to do that.\r\n",
    "\r\n",
    "Whenever you write code, you'll make mistakes.  When you run a code cell that has errors, Python will sometimes produce error messages to tell you what you did wrong.\r\n",
    "\r\n",
    "Errors are okay; even experienced programmers make many errors.  When you make an error, you just have to find the source of the problem, fix it, and move on.\r\n",
    "\r\n",
    "We have made an error in the next cell.  Run it and see what happens.ns."
   ]
  },
  {
   "cell_type": "code",
   "execution_count": null,
   "id": "4f5358c6-392e-4533-8d3f-7f03b82efde5",
   "metadata": {},
   "outputs": [],
   "source": [
    "print(\"This line is missing something.\""
   ]
  },
  {
   "cell_type": "markdown",
   "id": "16e967cd-ade9-42cb-8b2e-f948c5df861c",
   "metadata": {},
   "source": [
    "The last line of the error output above attempts to tell you what went wrong.  The *syntax* of a language is its structure, and this `SyntaxError` tells you that you have created an illegal structure. The `^` character is pointing to the location of the error and the message is saying Python expected you to write something more (in this case, a right parenthesis) before finishing the cell.\n",
    "\n",
    "There's a lot of terminology in programming languages. You'll learn as you go. If you are ever having trouble understanding an error message, search the discussion forum. If you don't find an answer, post a question about the error yourself.\n",
    "\n",
    "Try to fix the code above so that you can run the cell and see the intended message instead of an error."
   ]
  },
  {
   "cell_type": "markdown",
   "id": "e524b137-01a0-4f43-8670-6652d25a3ebf",
   "metadata": {},
   "source": [
    "### 1.5. The Kernel\n",
    "The kernel is a program that executes the code inside your notebook and outputs the results. In the top right of your window, you can see a circle that indicates the status of your kernel. If the circle is empty (⚪), the kernel is idle and ready to execute code. If the circle is filled in (⚫), the kernel is busy running some code. \n",
    "\n",
    "You may run into problems where your kernel is stuck for an excessive amount of time, your notebook is very slow and unresponsive, or your kernel loses its connection. If this happens, try the following steps:\n",
    "1. In the menu at the top of your screen, select **Kernel**, then **Interrupt**.\n",
    "2. If that doesn't help, select **Kernel**, then **Restart**. If you do this, you will have to run your code cells from the start of your notebook up until where you paused your work.\n",
    "3. If that doesn't help, restart your server. First, save your work by selecting **File** at the top left of your screen, then **Save and Checkpoint**. Next, select **Control Panel** at the top right. Choose **Stop My Server** to shut it down, then **My Server** to start it back up. Then, navigate back to the notebook you were working on."
   ]
  },
  {
   "cell_type": "markdown",
   "id": "78aa6444-a2d5-4c13-adb2-684aa5f0ca60",
   "metadata": {},
   "source": [
    "## What is a Jupyter Notebook?"
   ]
  },
  {
   "cell_type": "markdown",
   "id": "5ca1cae6-8e3a-45ce-82eb-c4d573822f3a",
   "metadata": {},
   "source": [
    "A Jupyter Notebook is a file/notebook that can contain both code and regular text (like this paragraph here!) as well as math formulas images, links, and more. The fact that a Jupyter Notebook can contains all of these various elements makes it a valuable tool for people, especially when doing data analysis, since the analysis description and the results can be contained in the same document. \r\n",
    "\r\n",
    "There are two ways to run and execute a Jupyter notebook:\r\n",
    "1. On a local Desktop (which requires no internet access)\r\n",
    "2. On a remote server (Our Elements of Data Science course at Temple uses this option so you can save your work and later review your notebooks to help with future course work)\r\n",
    "\r\n",
    "Every notebook has something called a ** kernel **, which acts as the operation part of the notebook. With the kernel, we can execute the lines of code that are in a notebook. When you open a notebook, the kernel associated with that notebook is automatically launched as well. When we execute or run a notebook (more on this down below), the kernel performs the computations and then returns the results. To see when the kernel is running/executing, you can look at the top right hand corner of your notebook, at a circle. If the circle is gray/filled in, the kernel is currently executing cells. If the circle is not filled in, the kernel is not currently executing cle.png\">\r\n",
    "\r\n",
    "When you first open your Jupyter Notebook, you are given an empty cell that you are free to edit. Cells can be of different types based on the content you want to write in it. Any Python code that is written will be in a \"Code\" cell, while paragraphs and images will be in a \"Markdown\" cell. \r\n",
    "\r\n",
    "Cells can also be in Edit Mode or Command Mode. When a cell is in edit mode, in the top right corner of the menu, there will be a pencil icon (as shown in the image above). When the cell is in command mode, this icon will not be there. Based on which mode the cell is in, we can do different actions/shortcuts.s/shortcuts."
   ]
  },
  {
   "cell_type": "markdown",
   "id": "8735132c-af7e-4ff3-ad42-cb21cc75743a",
   "metadata": {},
   "source": [
    "### Actions you can do in a Jupyter Notebook\n",
    "There are many different actions that you can do once you are within a notebook, a lot of which is in the top toolbar (containing icons) or the \"File Edit View ...\" menu. In this section, we will go over some common actions you can take to use your notebook. "
   ]
  },
  {
   "cell_type": "markdown",
   "id": "ae529364-03d6-4964-8492-5ac0062f51ad",
   "metadata": {},
   "source": [
    "#### Change Type of Cell\n",
    "Based on what purpose you are using your Jupyter Notebook for, you may want one type of cell or various types of cells within your notebook. The most common types of cells are Markdown cells and Code cells, which exist among Heading cells and Raw NBConvert cells. For any cells in your notebook, you can change what type of cell it is by selecting the cell you want to change and then going to the top toolbar and looking for the drop down menu with all the types options."
   ]
  },
  {
   "cell_type": "markdown",
   "id": "0b1c58bd-8a1f-42dc-a028-ddb75f6a104f",
   "metadata": {},
   "source": [
    "#### Add a Cell\n",
    "In order to add a cell to your notebook, select an existing cell and then navigate to the toolbar and click on the plus symbol. A cell will be added, below the cell you selected before. The cell will be default be a \"Code\" type cell. "
   ]
  },
  {
   "cell_type": "markdown",
   "id": "f0c1f6c7-e5d6-48cd-ad54-f38fd772f464",
   "metadata": {},
   "source": [
    "#### Delete a Cell \n",
    "To delete a cell from your notebook, select the cell you want to delete (by clicking on the cell) and then navigate to the menu at the top and do `Edit -> Delete Cells`."
   ]
  },
  {
   "cell_type": "markdown",
   "id": "17c5fcac-2fc2-4b48-a0a3-418f71afdbaa",
   "metadata": {},
   "source": [
    "#### Run Cells\n",
    "To run a single cell (so the kernel can evaluate what is in the cell), select the cell and then navigate to the menu and do: `Cell -> Run Cells`.\n",
    "\n",
    "To run a single cell and then select the next cell after the evaluation is complete, select the cell and then navigate to the menu and do: `Cell -> Run Cells and Select Below`. This can also be done by selecting the cell, going to the toolbar and clicking on the step icon (the triangle with a line on the right side). \n",
    "\n",
    "To run a single cell and then add a new cell after the evaluation is complete, select the cell and then navigate to the menu and do: `Cell -> Run Cells and Insert Below`.\n",
    "\n",
    "To run all the cells in the notebook, navigate to the menu and do: `Cell -> Run All`.\n",
    "\n",
    "To run all the cells above a certain cell, click on the cell then navigate to the menu and do: `Cell -> Run All Above`.\n",
    "\n",
    "To run all the cells below a certain cell, click on the cell then navigate to the menu and do: `Cell -> Run All Below`."
   ]
  },
  {
   "cell_type": "markdown",
   "id": "2c7b1c84-156e-4344-9d56-3724df419feb",
   "metadata": {},
   "source": [
    "#### Stop Executing\r\n",
    "Suppose you run a cell (which is taking a long time to finish), and you want to stop the kernel from executing it. Simply closing the window that your notebook is in will not make the kernel stop executing. To do this, you can go to the menu and select `Kernel -> Interrupt`. Alternatively, you can go to toolbar and press the stop icon (the full black square). Doing either of these actions will stop the kernel from executing the current cell."
   ]
  },
  {
   "cell_type": "markdown",
   "id": "137e24c6-5750-4122-9b0a-dae974c94085",
   "metadata": {},
   "source": [
    "#### Other Kernel Actions\r\n",
    "There are other actions (besides interrupting) that you can do with your kernel. These actions are in the menu under `Kernel`. \r\n",
    "\r\n",
    "`Kernel -> Restart`: This restarts the kernel and refreshes all the current variables in the kernel (variables are lost). The notebook cells are NOT run automatically but the output from the cells from before the restart are still there on the screen.\r\n",
    "\r\n",
    "`Kernel -> Restart & Clear Output`: This restarts the kernel and refreshes all the current variables in the kernel (variables are lost). The notebook cells are NOT run automatically and the output from the cells from before the restart are cleared from the screen.\r\n",
    "\r\n",
    "`Kernel -> Restart & Run All`: This restarts your kernel (and refreshes all the outputs/variables previously computed) and then runs all the cells in the notebook from the top. \r\n",
    "\r\n",
    "`Kernel -> Reconnect`: This helps to reconnect to the kernel in the case that your kernel disconnects or is having a problem. If your kernel is not working, you can try this action so that you can connect and execute with the kernel again.\r\n",
    "\r\n",
    "`Kernel -> Shutdown`: This shuts down the kernel so it will not be running or executing or taking up memory/storage."
   ]
  },
  {
   "cell_type": "markdown",
   "id": "51e43a4a-c775-4147-ad4f-da074f24c6aa",
   "metadata": {},
   "source": [
    "#### Markdown Cells\r\n",
    "Markdown cells can contain text, photos, videos, even code chunks that cannot be executed. To insert these elements and change the text (headings, bold, italics, links, etc), there is a language called Markdown Language. \r\n",
    "\r\n",
    "With Markdown you can:\r\n",
    "\r\n",
    "Make text **bold** by surrounding the text with double asterisks or double underscores.\r\n",
    "\r\n",
    "\r\n",
    "Make text *italicized* by surrounding the text with single asterisks or single underscores.\r\n",
    "\r\n",
    "\r\n",
    "* Create bulleted lists\r\n",
    "* By adding \r\n",
    "* An asterisk and a space and then your text\r\n",
    "\r\n",
    "\r\n",
    "Insert a [link](https://medium.com/ibm-data-science-experience/markdown-for-jupyter-notebooks-cheatsheet-386c05aeebed) into your text, by surrounding the text with brackets and immediately putting your url with parentheses around it.\r\n",
    "\r\n",
    "\r\n",
    "Add headings by starting a line with one or more # followed by a space and your heading text,\r\n",
    "### Like\r\n",
    "## this\r\n",
    "# example\r\n",
    "\r\n",
    "\r\n",
    "You can also embed code for illustration purposes (not execution) by surrounding the code with a single backtick, like `x = 5`.\r\n",
    "\r\n",
    "\r\n",
    "It is also possible to include mathematical equations by surrounding the expression with single dollar signs. The way you write the math formulas follows LaTeX rules. To have the expression on its own line, surround the expression with double dollar signs.\r\n",
    "$e^x=\\sum_{i=0}^\\infty \\frac{1}{i!}x^i$ \r\n",
    "$$e^x=\\sum_{i=0}^\\infty \\frac{1}{i!}x^i$$\r\n",
    "\r\n",
    "\r\n",
    "There are many more commands and tricks you can do with Markdown, check out this cheat sheet for more tips: https://medium.com/ibm-data-science-experience/markdown-for-jupyter-notebooks-cheatsheet-386c05aeebed."
   ]
  },
  {
   "cell_type": "markdown",
   "id": "c88d2e59-8d9d-468a-b334-b7ffc0783c76",
   "metadata": {},
   "source": [
    "#### Move Cells Up and Down \r\n",
    "It is also possible to move cells up or down if you want to change their location within the notebook. This can be done by selecting the cell(s) and clicking the up or down icons (based on where you want the cell to be). Each time the buttons is pressed, the cell selected will move one cell in that direction. This can also be done with Edit -> Move Cell Up or Move Cell Down."
   ]
  },
  {
   "cell_type": "code",
   "execution_count": null,
   "id": "3d3a766a-c55d-4315-aa7f-1efd464a9c32",
   "metadata": {},
   "outputs": [],
   "source": []
  },
  {
   "cell_type": "markdown",
   "id": "68c94e89-e7e1-4a7c-9f20-fca1aa1f4181",
   "metadata": {},
   "source": [
    "#### Cut, Copy, Paste Cells\n",
    "Similar to how you can cut, copy, and paste text in other editors like Google Docs or Word, you can do the same with cells in Jupyter Notebook. To do any of these commands you can select the cells and then navigate to the toolbar - the scissor icon is the Cut command, the double pages icon next to it is the Copy command, and the clipboard and page icon next to that is the Paste icon. Alternatively, you can do the same commands by going to the Menu and clicking Edit (where there are commands Cut Cells, Copy Cells, Paste Cells Above, Paste Cells Below, Paste Cells and Replace)."
   ]
  },
  {
   "cell_type": "markdown",
   "id": "de11abcf-4045-4411-a2d4-12b4e328f92f",
   "metadata": {},
   "source": [
    "#### Save Notebook\r\n",
    "To save your notebook in the location where it is currently, you can click on the save icon in the leftmost side of the toolbar or go to File -> Save and Checkpoint in the Menu. Checkpoints are created with this command so you are able to go back to the checkpoint if needed (similar to Google Docs and how you can see previous edits and versions of the document). "
   ]
  },
  {
   "cell_type": "markdown",
   "id": "492590e1-0498-4e4c-8871-aa331e9a6296",
   "metadata": {},
   "source": [
    "## Jupyter Notebook Shortcuts\r\n",
    "In the previous section, we talked about various actions we can do within a Jupyter Notebook. All of these actions required going to the Toolbar or the Menu at the top of the notebook. Doing this for every single action can be tiring, so luckily for us, there are a number of neat shortcuts to help us do the same actions.\r\n",
    "\r\n",
    "Some of these shortcuts require you to be in the Edit Mode or the Command Mode of a cell. Remember, you are in Edit Mode if you can see the pencil icon in the top right corner of the Menu. \r\n",
    "\r\n",
    "To activate command mode, press `Esc` and to activate Edit Mode, press `Enter`. \r\n",
    "\r\n",
    "Below the shortcuts are grouped based on what mode you are in."
   ]
  },
  {
   "cell_type": "markdown",
   "id": "4fc872dc-4626-4019-97d7-88e83d931228",
   "metadata": {},
   "source": [
    "#### Shortcuts for Both Modes\r\n",
    "* Run the current cell and select below: `Shift + Enter`\r\n",
    "* Run the selected cell: `Ctrl + Enter`\r\n",
    "* Run the current cell and insert cell below: `Alt + Enter`\r\n",
    "* Save and checkpoint: `Ctrl + S`\r\n",
    "\r\n",
    "\r\n",
    "#### Shortcuts while in Command Mode\r\n",
    "* Show all shortcuts: `H`\r\n",
    "* Select cell above: `Up`\r\n",
    "* Select cell below: `Down`\r\n",
    "* Extend selected cells above: `Shift + Up`\r\n",
    "* Extend selected cells below: `Shift + Down`\r\n",
    "* Insert cell above: `A`\r\n",
    "* Insert cell below: `B`\r\n",
    "* Cut selected cells: `X`\r\n",
    "* Copy selected cells: `C`\r\n",
    "* Paste cells above: `Shift + V`\r\n",
    "* Paste cells below: `V`\r\n",
    "* Delete selected cells: `D, D` (press `D` key twice)\r\n",
    "* Undo deleting cell: `Z`\r\n",
    "* Save and checkpoint: `S`\r\n",
    "* Change to Code cell type: `Y`\r\n",
    "* Change to Markdown cell type: `M`\r\n",
    "* Scroll notebook up: `Shift + Space`\r\n",
    "* Scroll notebook down: `Space`\r\n",
    "\r\n",
    "\r\n",
    "#### Shortcuts while in Edit Mode\r\n",
    "Many of these are similar to other text editors because we are doing them in Edit Mode.\r\n",
    "* Code completion or indent: `Tab`\r\n",
    "* Indent: `Ctrl + ]`\r\n",
    "* Dedent: `Ctrl + [`\r\n",
    "* Select all: `Ctrl + A`\r\n",
    "* Undo: ` Ctrl + Z`\r\n",
    "* Redo: ` Ctrl + Y`\r\n",
    "* Go to left of line: `Ctrl + Left`\r\n",
    "* Go to right of line: `Ctrl + Right`\r\n",
    "* Move cursor down: `Down`\r\n",
    "* Move cursor up: `Up`\r\n",
    "\r\n",
    "There are other shortcuts that also exist, many of them are documented online as well as in the Jupyter Notebook documentation."
   ]
  }
 ],
 "metadata": {
  "kernelspec": {
   "display_name": "Python 3 (ipykernel)",
   "language": "python",
   "name": "python3"
  },
  "language_info": {
   "codemirror_mode": {
    "name": "ipython",
    "version": 3
   },
   "file_extension": ".py",
   "mimetype": "text/x-python",
   "name": "python",
   "nbconvert_exporter": "python",
   "pygments_lexer": "ipython3",
   "version": "3.11.9"
  }
 },
 "nbformat": 4,
 "nbformat_minor": 5
}
